{
  "nbformat": 4,
  "nbformat_minor": 0,
  "metadata": {
    "colab": {
      "provenance": []
    },
    "kernelspec": {
      "name": "python3",
      "display_name": "Python 3"
    },
    "language_info": {
      "name": "python"
    }
  },
  "cells": [
    {
      "cell_type": "markdown",
      "source": [
        "#Student Dropout Prediction Using Deep Learning\n",
        "\n",
        "This notebook presents a complete pipeline for predicting student academic outcomes — *Dropout*, *Enrolled*, or *Graduate* — using various machine learning and deep learning techniques.\n",
        "\n",
        "##Key Features:\n",
        "\n",
        "- **Data Preprocessing**: Handling categorical and numerical features with encoding and scaling.\n",
        "- **Model Training**:\n",
        "  - Baseline Feedforward Neural Network (FNN)\n",
        "  - Hyperparameter tuning using:\n",
        "    - Manual Grid Search\n",
        "    - Random Search\n",
        "    - Optuna Bayesian Optimization\n",
        "  - Regularization Techniques: L1, L2, Dropout\n",
        "  - Different Optimizers: SGD, Adam, RMSprop\n",
        "- **Evaluation Metrics**:\n",
        "  - Accuracy, Classification Report\n",
        "  - Confusion Matrix\n",
        "  - K-Fold Cross-Validation\n",
        "- **Visualizations**: Accuracy/Loss trends across epochs, Confusion Matrix heatmap\n",
        "\n",
        "\n",
        "Target Variable: Student academic status with 3 classes - Dropout, Enrolled, Graduate\n"
      ],
      "metadata": {
        "id": "Dt5033I7sl90"
      }
    },
    {
      "cell_type": "markdown",
      "source": [
        "##Installing Required Libraries\n",
        "\n",
        "The following libraries are installed to support model building, training, and hyperparameter tuning:\n",
        "- `scikeras` for integrating Keras with scikit-learn\n",
        "- `tensorflow` for building neural networks\n",
        "- `optuna` for automated hyperparameter optimization\n"
      ],
      "metadata": {
        "id": "pB6y0sElIcx6"
      }
    },
    {
      "cell_type": "code",
      "source": [
        "# Installing required libraries\n",
        "!pip install scikeras\n",
        "!pip install --upgrade scikit_learn scikeras tensorflow\n",
        "!pip install optuna\n"
      ],
      "metadata": {
        "colab": {
          "base_uri": "https://localhost:8080/"
        },
        "id": "AsCxYWTXdxJp",
        "outputId": "d4e6bb70-ac20-4503-e381-c0b87a27f84e"
      },
      "execution_count": null,
      "outputs": [
        {
          "output_type": "stream",
          "name": "stdout",
          "text": [
            "Requirement already satisfied: scikeras in /usr/local/lib/python3.11/dist-packages (0.13.0)\n",
            "Requirement already satisfied: keras>=3.2.0 in /usr/local/lib/python3.11/dist-packages (from scikeras) (3.8.0)\n",
            "Requirement already satisfied: scikit-learn>=1.4.2 in /usr/local/lib/python3.11/dist-packages (from scikeras) (1.6.1)\n",
            "Requirement already satisfied: absl-py in /usr/local/lib/python3.11/dist-packages (from keras>=3.2.0->scikeras) (1.4.0)\n",
            "Requirement already satisfied: numpy in /usr/local/lib/python3.11/dist-packages (from keras>=3.2.0->scikeras) (2.0.2)\n",
            "Requirement already satisfied: rich in /usr/local/lib/python3.11/dist-packages (from keras>=3.2.0->scikeras) (13.9.4)\n",
            "Requirement already satisfied: namex in /usr/local/lib/python3.11/dist-packages (from keras>=3.2.0->scikeras) (0.1.0)\n",
            "Requirement already satisfied: h5py in /usr/local/lib/python3.11/dist-packages (from keras>=3.2.0->scikeras) (3.13.0)\n",
            "Requirement already satisfied: optree in /usr/local/lib/python3.11/dist-packages (from keras>=3.2.0->scikeras) (0.16.0)\n",
            "Requirement already satisfied: ml-dtypes in /usr/local/lib/python3.11/dist-packages (from keras>=3.2.0->scikeras) (0.5.1)\n",
            "Requirement already satisfied: packaging in /usr/local/lib/python3.11/dist-packages (from keras>=3.2.0->scikeras) (24.2)\n",
            "Requirement already satisfied: scipy>=1.6.0 in /usr/local/lib/python3.11/dist-packages (from scikit-learn>=1.4.2->scikeras) (1.15.3)\n",
            "Requirement already satisfied: joblib>=1.2.0 in /usr/local/lib/python3.11/dist-packages (from scikit-learn>=1.4.2->scikeras) (1.5.1)\n",
            "Requirement already satisfied: threadpoolctl>=3.1.0 in /usr/local/lib/python3.11/dist-packages (from scikit-learn>=1.4.2->scikeras) (3.6.0)\n",
            "Requirement already satisfied: typing-extensions>=4.6.0 in /usr/local/lib/python3.11/dist-packages (from optree->keras>=3.2.0->scikeras) (4.13.2)\n",
            "Requirement already satisfied: markdown-it-py>=2.2.0 in /usr/local/lib/python3.11/dist-packages (from rich->keras>=3.2.0->scikeras) (3.0.0)\n",
            "Requirement already satisfied: pygments<3.0.0,>=2.13.0 in /usr/local/lib/python3.11/dist-packages (from rich->keras>=3.2.0->scikeras) (2.19.1)\n",
            "Requirement already satisfied: mdurl~=0.1 in /usr/local/lib/python3.11/dist-packages (from markdown-it-py>=2.2.0->rich->keras>=3.2.0->scikeras) (0.1.2)\n",
            "Requirement already satisfied: scikit_learn in /usr/local/lib/python3.11/dist-packages (1.6.1)\n",
            "Requirement already satisfied: scikeras in /usr/local/lib/python3.11/dist-packages (0.13.0)\n",
            "Requirement already satisfied: tensorflow in /usr/local/lib/python3.11/dist-packages (2.19.0)\n",
            "Requirement already satisfied: numpy>=1.19.5 in /usr/local/lib/python3.11/dist-packages (from scikit_learn) (2.0.2)\n",
            "Requirement already satisfied: scipy>=1.6.0 in /usr/local/lib/python3.11/dist-packages (from scikit_learn) (1.15.3)\n",
            "Requirement already satisfied: joblib>=1.2.0 in /usr/local/lib/python3.11/dist-packages (from scikit_learn) (1.5.1)\n",
            "Requirement already satisfied: threadpoolctl>=3.1.0 in /usr/local/lib/python3.11/dist-packages (from scikit_learn) (3.6.0)\n",
            "Requirement already satisfied: keras>=3.2.0 in /usr/local/lib/python3.11/dist-packages (from scikeras) (3.8.0)\n",
            "Requirement already satisfied: absl-py>=1.0.0 in /usr/local/lib/python3.11/dist-packages (from tensorflow) (1.4.0)\n",
            "Requirement already satisfied: astunparse>=1.6.0 in /usr/local/lib/python3.11/dist-packages (from tensorflow) (1.6.3)\n",
            "Requirement already satisfied: flatbuffers>=24.3.25 in /usr/local/lib/python3.11/dist-packages (from tensorflow) (25.2.10)\n",
            "Requirement already satisfied: gast!=0.5.0,!=0.5.1,!=0.5.2,>=0.2.1 in /usr/local/lib/python3.11/dist-packages (from tensorflow) (0.6.0)\n",
            "Requirement already satisfied: google-pasta>=0.1.1 in /usr/local/lib/python3.11/dist-packages (from tensorflow) (0.2.0)\n",
            "Requirement already satisfied: libclang>=13.0.0 in /usr/local/lib/python3.11/dist-packages (from tensorflow) (18.1.1)\n",
            "Requirement already satisfied: opt-einsum>=2.3.2 in /usr/local/lib/python3.11/dist-packages (from tensorflow) (3.4.0)\n",
            "Requirement already satisfied: packaging in /usr/local/lib/python3.11/dist-packages (from tensorflow) (24.2)\n",
            "Requirement already satisfied: protobuf!=4.21.0,!=4.21.1,!=4.21.2,!=4.21.3,!=4.21.4,!=4.21.5,<6.0.0dev,>=3.20.3 in /usr/local/lib/python3.11/dist-packages (from tensorflow) (5.29.5)\n",
            "Requirement already satisfied: requests<3,>=2.21.0 in /usr/local/lib/python3.11/dist-packages (from tensorflow) (2.32.3)\n",
            "Requirement already satisfied: setuptools in /usr/local/lib/python3.11/dist-packages (from tensorflow) (75.2.0)\n",
            "Requirement already satisfied: six>=1.12.0 in /usr/local/lib/python3.11/dist-packages (from tensorflow) (1.17.0)\n",
            "Requirement already satisfied: termcolor>=1.1.0 in /usr/local/lib/python3.11/dist-packages (from tensorflow) (3.1.0)\n",
            "Requirement already satisfied: typing-extensions>=3.6.6 in /usr/local/lib/python3.11/dist-packages (from tensorflow) (4.13.2)\n",
            "Requirement already satisfied: wrapt>=1.11.0 in /usr/local/lib/python3.11/dist-packages (from tensorflow) (1.17.2)\n",
            "Requirement already satisfied: grpcio<2.0,>=1.24.3 in /usr/local/lib/python3.11/dist-packages (from tensorflow) (1.71.0)\n",
            "Requirement already satisfied: tensorboard~=2.19.0 in /usr/local/lib/python3.11/dist-packages (from tensorflow) (2.19.0)\n",
            "Requirement already satisfied: h5py>=3.11.0 in /usr/local/lib/python3.11/dist-packages (from tensorflow) (3.13.0)\n",
            "Requirement already satisfied: ml-dtypes<1.0.0,>=0.5.1 in /usr/local/lib/python3.11/dist-packages (from tensorflow) (0.5.1)\n",
            "Requirement already satisfied: tensorflow-io-gcs-filesystem>=0.23.1 in /usr/local/lib/python3.11/dist-packages (from tensorflow) (0.37.1)\n",
            "Requirement already satisfied: wheel<1.0,>=0.23.0 in /usr/local/lib/python3.11/dist-packages (from astunparse>=1.6.0->tensorflow) (0.45.1)\n",
            "Requirement already satisfied: rich in /usr/local/lib/python3.11/dist-packages (from keras>=3.2.0->scikeras) (13.9.4)\n",
            "Requirement already satisfied: namex in /usr/local/lib/python3.11/dist-packages (from keras>=3.2.0->scikeras) (0.1.0)\n",
            "Requirement already satisfied: optree in /usr/local/lib/python3.11/dist-packages (from keras>=3.2.0->scikeras) (0.16.0)\n",
            "Requirement already satisfied: charset-normalizer<4,>=2 in /usr/local/lib/python3.11/dist-packages (from requests<3,>=2.21.0->tensorflow) (3.4.2)\n",
            "Requirement already satisfied: idna<4,>=2.5 in /usr/local/lib/python3.11/dist-packages (from requests<3,>=2.21.0->tensorflow) (3.10)\n",
            "Requirement already satisfied: urllib3<3,>=1.21.1 in /usr/local/lib/python3.11/dist-packages (from requests<3,>=2.21.0->tensorflow) (2.4.0)\n",
            "Requirement already satisfied: certifi>=2017.4.17 in /usr/local/lib/python3.11/dist-packages (from requests<3,>=2.21.0->tensorflow) (2025.4.26)\n",
            "Requirement already satisfied: markdown>=2.6.8 in /usr/local/lib/python3.11/dist-packages (from tensorboard~=2.19.0->tensorflow) (3.8)\n",
            "Requirement already satisfied: tensorboard-data-server<0.8.0,>=0.7.0 in /usr/local/lib/python3.11/dist-packages (from tensorboard~=2.19.0->tensorflow) (0.7.2)\n",
            "Requirement already satisfied: werkzeug>=1.0.1 in /usr/local/lib/python3.11/dist-packages (from tensorboard~=2.19.0->tensorflow) (3.1.3)\n",
            "Requirement already satisfied: MarkupSafe>=2.1.1 in /usr/local/lib/python3.11/dist-packages (from werkzeug>=1.0.1->tensorboard~=2.19.0->tensorflow) (3.0.2)\n",
            "Requirement already satisfied: markdown-it-py>=2.2.0 in /usr/local/lib/python3.11/dist-packages (from rich->keras>=3.2.0->scikeras) (3.0.0)\n",
            "Requirement already satisfied: pygments<3.0.0,>=2.13.0 in /usr/local/lib/python3.11/dist-packages (from rich->keras>=3.2.0->scikeras) (2.19.1)\n",
            "Requirement already satisfied: mdurl~=0.1 in /usr/local/lib/python3.11/dist-packages (from markdown-it-py>=2.2.0->rich->keras>=3.2.0->scikeras) (0.1.2)\n",
            "Requirement already satisfied: optuna in /usr/local/lib/python3.11/dist-packages (4.3.0)\n",
            "Requirement already satisfied: alembic>=1.5.0 in /usr/local/lib/python3.11/dist-packages (from optuna) (1.16.1)\n",
            "Requirement already satisfied: colorlog in /usr/local/lib/python3.11/dist-packages (from optuna) (6.9.0)\n",
            "Requirement already satisfied: numpy in /usr/local/lib/python3.11/dist-packages (from optuna) (2.0.2)\n",
            "Requirement already satisfied: packaging>=20.0 in /usr/local/lib/python3.11/dist-packages (from optuna) (24.2)\n",
            "Requirement already satisfied: sqlalchemy>=1.4.2 in /usr/local/lib/python3.11/dist-packages (from optuna) (2.0.41)\n",
            "Requirement already satisfied: tqdm in /usr/local/lib/python3.11/dist-packages (from optuna) (4.67.1)\n",
            "Requirement already satisfied: PyYAML in /usr/local/lib/python3.11/dist-packages (from optuna) (6.0.2)\n",
            "Requirement already satisfied: Mako in /usr/lib/python3/dist-packages (from alembic>=1.5.0->optuna) (1.1.3)\n",
            "Requirement already satisfied: typing-extensions>=4.12 in /usr/local/lib/python3.11/dist-packages (from alembic>=1.5.0->optuna) (4.13.2)\n",
            "Requirement already satisfied: greenlet>=1 in /usr/local/lib/python3.11/dist-packages (from sqlalchemy>=1.4.2->optuna) (3.2.2)\n"
          ]
        }
      ]
    },
    {
      "cell_type": "markdown",
      "source": [
        "First, we load the dataset using pandas and take a quick look at its contents. We check the first few rows to understand the structure, see how many records and features it contains, and review the data types of each column. We also look for any missing values and explore basic statistics of the numerical features. This initial exploration helps us get familiar with the data before diving into preprocessing and modeling."
      ],
      "metadata": {
        "id": "mvf7wtG1uBCZ"
      }
    },
    {
      "cell_type": "code",
      "source": [
        "import pandas as pd\n",
        "# Load the CSV file (no header in CSV, use defined column names)\n",
        "file_path = \"data.csv\"\n",
        "df = pd.read_csv(file_path, delimiter=';')\n",
        "\n",
        "# Display the first 10 rows to verify\n",
        "print(\"First 10 rows of the dataset:\")\n",
        "print(df.head(10))\n",
        "\n",
        "# Display the shape of the dataset\n",
        "print(\"\\nShape of the dataset (rows, columns):\", df.shape)\n",
        "\n",
        "# Display basic info\n",
        "print(\"\\nDataset info:\")\n",
        "print(df.info())\n",
        "\n",
        "# Check for missing values\n",
        "print(\"\\nMissing values in the dataset:\")\n",
        "print(df.isnull().sum())\n",
        "\n",
        "# Display basic statistics for numeric columns\n",
        "print(\"\\nBasic statistics for numeric columns:\")\n",
        "print(df.describe())\n",
        "\n",
        "print(df.dtypes)\n",
        "\n"
      ],
      "metadata": {
        "colab": {
          "base_uri": "https://localhost:8080/"
        },
        "id": "iU5xghWiRxh_",
        "outputId": "848ca460-8b8f-4dbd-bfc8-2488077104f9"
      },
      "execution_count": null,
      "outputs": [
        {
          "output_type": "stream",
          "name": "stdout",
          "text": [
            "First 10 rows of the dataset:\n",
            "   Marital status  Application mode  Application order  Course  \\\n",
            "0               1                17                  5     171   \n",
            "1               1                15                  1    9254   \n",
            "2               1                 1                  5    9070   \n",
            "3               1                17                  2    9773   \n",
            "4               2                39                  1    8014   \n",
            "5               2                39                  1    9991   \n",
            "6               1                 1                  1    9500   \n",
            "7               1                18                  4    9254   \n",
            "8               1                 1                  3    9238   \n",
            "9               1                 1                  1    9238   \n",
            "\n",
            "   Daytime/evening attendance\\t  Previous qualification  \\\n",
            "0                             1                       1   \n",
            "1                             1                       1   \n",
            "2                             1                       1   \n",
            "3                             1                       1   \n",
            "4                             0                       1   \n",
            "5                             0                      19   \n",
            "6                             1                       1   \n",
            "7                             1                       1   \n",
            "8                             1                       1   \n",
            "9                             1                       1   \n",
            "\n",
            "   Previous qualification (grade)  Nacionality  Mother's qualification  \\\n",
            "0                           122.0            1                      19   \n",
            "1                           160.0            1                       1   \n",
            "2                           122.0            1                      37   \n",
            "3                           122.0            1                      38   \n",
            "4                           100.0            1                      37   \n",
            "5                           133.1            1                      37   \n",
            "6                           142.0            1                      19   \n",
            "7                           119.0            1                      37   \n",
            "8                           137.0           62                       1   \n",
            "9                           138.0            1                       1   \n",
            "\n",
            "   Father's qualification  ...  Curricular units 2nd sem (credited)  \\\n",
            "0                      12  ...                                    0   \n",
            "1                       3  ...                                    0   \n",
            "2                      37  ...                                    0   \n",
            "3                      37  ...                                    0   \n",
            "4                      38  ...                                    0   \n",
            "5                      37  ...                                    0   \n",
            "6                      38  ...                                    0   \n",
            "7                      37  ...                                    0   \n",
            "8                       1  ...                                    0   \n",
            "9                      19  ...                                    0   \n",
            "\n",
            "   Curricular units 2nd sem (enrolled)  \\\n",
            "0                                    0   \n",
            "1                                    6   \n",
            "2                                    6   \n",
            "3                                    6   \n",
            "4                                    6   \n",
            "5                                    5   \n",
            "6                                    8   \n",
            "7                                    5   \n",
            "8                                    6   \n",
            "9                                    6   \n",
            "\n",
            "   Curricular units 2nd sem (evaluations)  \\\n",
            "0                                       0   \n",
            "1                                       6   \n",
            "2                                       0   \n",
            "3                                      10   \n",
            "4                                       6   \n",
            "5                                      17   \n",
            "6                                       8   \n",
            "7                                       5   \n",
            "8                                       7   \n",
            "9                                      14   \n",
            "\n",
            "   Curricular units 2nd sem (approved)  Curricular units 2nd sem (grade)  \\\n",
            "0                                    0                          0.000000   \n",
            "1                                    6                         13.666667   \n",
            "2                                    0                          0.000000   \n",
            "3                                    5                         12.400000   \n",
            "4                                    6                         13.000000   \n",
            "5                                    5                         11.500000   \n",
            "6                                    8                         14.345000   \n",
            "7                                    0                          0.000000   \n",
            "8                                    6                         14.142857   \n",
            "9                                    2                         13.500000   \n",
            "\n",
            "   Curricular units 2nd sem (without evaluations)  Unemployment rate  \\\n",
            "0                                               0               10.8   \n",
            "1                                               0               13.9   \n",
            "2                                               0               10.8   \n",
            "3                                               0                9.4   \n",
            "4                                               0               13.9   \n",
            "5                                               5               16.2   \n",
            "6                                               0               15.5   \n",
            "7                                               0               15.5   \n",
            "8                                               0               16.2   \n",
            "9                                               0                8.9   \n",
            "\n",
            "   Inflation rate   GDP    Target  \n",
            "0             1.4  1.74   Dropout  \n",
            "1            -0.3  0.79  Graduate  \n",
            "2             1.4  1.74   Dropout  \n",
            "3            -0.8 -3.12  Graduate  \n",
            "4            -0.3  0.79  Graduate  \n",
            "5             0.3 -0.92  Graduate  \n",
            "6             2.8 -4.06  Graduate  \n",
            "7             2.8 -4.06   Dropout  \n",
            "8             0.3 -0.92  Graduate  \n",
            "9             1.4  3.51   Dropout  \n",
            "\n",
            "[10 rows x 37 columns]\n",
            "\n",
            "Shape of the dataset (rows, columns): (4424, 37)\n",
            "\n",
            "Dataset info:\n",
            "<class 'pandas.core.frame.DataFrame'>\n",
            "RangeIndex: 4424 entries, 0 to 4423\n",
            "Data columns (total 37 columns):\n",
            " #   Column                                          Non-Null Count  Dtype  \n",
            "---  ------                                          --------------  -----  \n",
            " 0   Marital status                                  4424 non-null   int64  \n",
            " 1   Application mode                                4424 non-null   int64  \n",
            " 2   Application order                               4424 non-null   int64  \n",
            " 3   Course                                          4424 non-null   int64  \n",
            " 4   Daytime/evening attendance\t                     4424 non-null   int64  \n",
            " 5   Previous qualification                          4424 non-null   int64  \n",
            " 6   Previous qualification (grade)                  4424 non-null   float64\n",
            " 7   Nacionality                                     4424 non-null   int64  \n",
            " 8   Mother's qualification                          4424 non-null   int64  \n",
            " 9   Father's qualification                          4424 non-null   int64  \n",
            " 10  Mother's occupation                             4424 non-null   int64  \n",
            " 11  Father's occupation                             4424 non-null   int64  \n",
            " 12  Admission grade                                 4424 non-null   float64\n",
            " 13  Displaced                                       4424 non-null   int64  \n",
            " 14  Educational special needs                       4424 non-null   int64  \n",
            " 15  Debtor                                          4424 non-null   int64  \n",
            " 16  Tuition fees up to date                         4424 non-null   int64  \n",
            " 17  Gender                                          4424 non-null   int64  \n",
            " 18  Scholarship holder                              4424 non-null   int64  \n",
            " 19  Age at enrollment                               4424 non-null   int64  \n",
            " 20  International                                   4424 non-null   int64  \n",
            " 21  Curricular units 1st sem (credited)             4424 non-null   int64  \n",
            " 22  Curricular units 1st sem (enrolled)             4424 non-null   int64  \n",
            " 23  Curricular units 1st sem (evaluations)          4424 non-null   int64  \n",
            " 24  Curricular units 1st sem (approved)             4424 non-null   int64  \n",
            " 25  Curricular units 1st sem (grade)                4424 non-null   float64\n",
            " 26  Curricular units 1st sem (without evaluations)  4424 non-null   int64  \n",
            " 27  Curricular units 2nd sem (credited)             4424 non-null   int64  \n",
            " 28  Curricular units 2nd sem (enrolled)             4424 non-null   int64  \n",
            " 29  Curricular units 2nd sem (evaluations)          4424 non-null   int64  \n",
            " 30  Curricular units 2nd sem (approved)             4424 non-null   int64  \n",
            " 31  Curricular units 2nd sem (grade)                4424 non-null   float64\n",
            " 32  Curricular units 2nd sem (without evaluations)  4424 non-null   int64  \n",
            " 33  Unemployment rate                               4424 non-null   float64\n",
            " 34  Inflation rate                                  4424 non-null   float64\n",
            " 35  GDP                                             4424 non-null   float64\n",
            " 36  Target                                          4424 non-null   object \n",
            "dtypes: float64(7), int64(29), object(1)\n",
            "memory usage: 1.2+ MB\n",
            "None\n",
            "\n",
            "Missing values in the dataset:\n",
            "Marital status                                    0\n",
            "Application mode                                  0\n",
            "Application order                                 0\n",
            "Course                                            0\n",
            "Daytime/evening attendance\\t                      0\n",
            "Previous qualification                            0\n",
            "Previous qualification (grade)                    0\n",
            "Nacionality                                       0\n",
            "Mother's qualification                            0\n",
            "Father's qualification                            0\n",
            "Mother's occupation                               0\n",
            "Father's occupation                               0\n",
            "Admission grade                                   0\n",
            "Displaced                                         0\n",
            "Educational special needs                         0\n",
            "Debtor                                            0\n",
            "Tuition fees up to date                           0\n",
            "Gender                                            0\n",
            "Scholarship holder                                0\n",
            "Age at enrollment                                 0\n",
            "International                                     0\n",
            "Curricular units 1st sem (credited)               0\n",
            "Curricular units 1st sem (enrolled)               0\n",
            "Curricular units 1st sem (evaluations)            0\n",
            "Curricular units 1st sem (approved)               0\n",
            "Curricular units 1st sem (grade)                  0\n",
            "Curricular units 1st sem (without evaluations)    0\n",
            "Curricular units 2nd sem (credited)               0\n",
            "Curricular units 2nd sem (enrolled)               0\n",
            "Curricular units 2nd sem (evaluations)            0\n",
            "Curricular units 2nd sem (approved)               0\n",
            "Curricular units 2nd sem (grade)                  0\n",
            "Curricular units 2nd sem (without evaluations)    0\n",
            "Unemployment rate                                 0\n",
            "Inflation rate                                    0\n",
            "GDP                                               0\n",
            "Target                                            0\n",
            "dtype: int64\n",
            "\n",
            "Basic statistics for numeric columns:\n",
            "       Marital status  Application mode  Application order       Course  \\\n",
            "count     4424.000000       4424.000000        4424.000000  4424.000000   \n",
            "mean         1.178571         18.669078           1.727848  8856.642631   \n",
            "std          0.605747         17.484682           1.313793  2063.566416   \n",
            "min          1.000000          1.000000           0.000000    33.000000   \n",
            "25%          1.000000          1.000000           1.000000  9085.000000   \n",
            "50%          1.000000         17.000000           1.000000  9238.000000   \n",
            "75%          1.000000         39.000000           2.000000  9556.000000   \n",
            "max          6.000000         57.000000           9.000000  9991.000000   \n",
            "\n",
            "       Daytime/evening attendance\\t  Previous qualification  \\\n",
            "count                   4424.000000             4424.000000   \n",
            "mean                       0.890823                4.577758   \n",
            "std                        0.311897               10.216592   \n",
            "min                        0.000000                1.000000   \n",
            "25%                        1.000000                1.000000   \n",
            "50%                        1.000000                1.000000   \n",
            "75%                        1.000000                1.000000   \n",
            "max                        1.000000               43.000000   \n",
            "\n",
            "       Previous qualification (grade)  Nacionality  Mother's qualification  \\\n",
            "count                     4424.000000  4424.000000             4424.000000   \n",
            "mean                       132.613314     1.873192               19.561935   \n",
            "std                         13.188332     6.914514               15.603186   \n",
            "min                         95.000000     1.000000                1.000000   \n",
            "25%                        125.000000     1.000000                2.000000   \n",
            "50%                        133.100000     1.000000               19.000000   \n",
            "75%                        140.000000     1.000000               37.000000   \n",
            "max                        190.000000   109.000000               44.000000   \n",
            "\n",
            "       Father's qualification  ...  \\\n",
            "count             4424.000000  ...   \n",
            "mean                22.275316  ...   \n",
            "std                 15.343108  ...   \n",
            "min                  1.000000  ...   \n",
            "25%                  3.000000  ...   \n",
            "50%                 19.000000  ...   \n",
            "75%                 37.000000  ...   \n",
            "max                 44.000000  ...   \n",
            "\n",
            "       Curricular units 1st sem (without evaluations)  \\\n",
            "count                                     4424.000000   \n",
            "mean                                         0.137658   \n",
            "std                                          0.690880   \n",
            "min                                          0.000000   \n",
            "25%                                          0.000000   \n",
            "50%                                          0.000000   \n",
            "75%                                          0.000000   \n",
            "max                                         12.000000   \n",
            "\n",
            "       Curricular units 2nd sem (credited)  \\\n",
            "count                          4424.000000   \n",
            "mean                              0.541817   \n",
            "std                               1.918546   \n",
            "min                               0.000000   \n",
            "25%                               0.000000   \n",
            "50%                               0.000000   \n",
            "75%                               0.000000   \n",
            "max                              19.000000   \n",
            "\n",
            "       Curricular units 2nd sem (enrolled)  \\\n",
            "count                          4424.000000   \n",
            "mean                              6.232143   \n",
            "std                               2.195951   \n",
            "min                               0.000000   \n",
            "25%                               5.000000   \n",
            "50%                               6.000000   \n",
            "75%                               7.000000   \n",
            "max                              23.000000   \n",
            "\n",
            "       Curricular units 2nd sem (evaluations)  \\\n",
            "count                             4424.000000   \n",
            "mean                                 8.063291   \n",
            "std                                  3.947951   \n",
            "min                                  0.000000   \n",
            "25%                                  6.000000   \n",
            "50%                                  8.000000   \n",
            "75%                                 10.000000   \n",
            "max                                 33.000000   \n",
            "\n",
            "       Curricular units 2nd sem (approved)  Curricular units 2nd sem (grade)  \\\n",
            "count                          4424.000000                       4424.000000   \n",
            "mean                              4.435805                         10.230206   \n",
            "std                               3.014764                          5.210808   \n",
            "min                               0.000000                          0.000000   \n",
            "25%                               2.000000                         10.750000   \n",
            "50%                               5.000000                         12.200000   \n",
            "75%                               6.000000                         13.333333   \n",
            "max                              20.000000                         18.571429   \n",
            "\n",
            "       Curricular units 2nd sem (without evaluations)  Unemployment rate  \\\n",
            "count                                     4424.000000        4424.000000   \n",
            "mean                                         0.150316          11.566139   \n",
            "std                                          0.753774           2.663850   \n",
            "min                                          0.000000           7.600000   \n",
            "25%                                          0.000000           9.400000   \n",
            "50%                                          0.000000          11.100000   \n",
            "75%                                          0.000000          13.900000   \n",
            "max                                         12.000000          16.200000   \n",
            "\n",
            "       Inflation rate          GDP  \n",
            "count     4424.000000  4424.000000  \n",
            "mean         1.228029     0.001969  \n",
            "std          1.382711     2.269935  \n",
            "min         -0.800000    -4.060000  \n",
            "25%          0.300000    -1.700000  \n",
            "50%          1.400000     0.320000  \n",
            "75%          2.600000     1.790000  \n",
            "max          3.700000     3.510000  \n",
            "\n",
            "[8 rows x 36 columns]\n",
            "Marital status                                      int64\n",
            "Application mode                                    int64\n",
            "Application order                                   int64\n",
            "Course                                              int64\n",
            "Daytime/evening attendance\\t                        int64\n",
            "Previous qualification                              int64\n",
            "Previous qualification (grade)                    float64\n",
            "Nacionality                                         int64\n",
            "Mother's qualification                              int64\n",
            "Father's qualification                              int64\n",
            "Mother's occupation                                 int64\n",
            "Father's occupation                                 int64\n",
            "Admission grade                                   float64\n",
            "Displaced                                           int64\n",
            "Educational special needs                           int64\n",
            "Debtor                                              int64\n",
            "Tuition fees up to date                             int64\n",
            "Gender                                              int64\n",
            "Scholarship holder                                  int64\n",
            "Age at enrollment                                   int64\n",
            "International                                       int64\n",
            "Curricular units 1st sem (credited)                 int64\n",
            "Curricular units 1st sem (enrolled)                 int64\n",
            "Curricular units 1st sem (evaluations)              int64\n",
            "Curricular units 1st sem (approved)                 int64\n",
            "Curricular units 1st sem (grade)                  float64\n",
            "Curricular units 1st sem (without evaluations)      int64\n",
            "Curricular units 2nd sem (credited)                 int64\n",
            "Curricular units 2nd sem (enrolled)                 int64\n",
            "Curricular units 2nd sem (evaluations)              int64\n",
            "Curricular units 2nd sem (approved)                 int64\n",
            "Curricular units 2nd sem (grade)                  float64\n",
            "Curricular units 2nd sem (without evaluations)      int64\n",
            "Unemployment rate                                 float64\n",
            "Inflation rate                                    float64\n",
            "GDP                                               float64\n",
            "Target                                             object\n",
            "dtype: object\n"
          ]
        }
      ]
    },
    {
      "cell_type": "markdown",
      "source": [
        "To begin, we examined the first 10 rows of the dataset to get a clear view of its contents. The dataset contains 37 columns with a variety of features such as marital status, application details, previous qualifications, parental information, academic performance, economic indicators like unemployment rate, inflation, and GDP, along with the target variable indicating whether a student graduated or dropped out. The sample rows show a mix of numerical and categorical data, including grades, enrollment details, and demographic info.\n",
        "\n",
        "The dataset has a total of 4,424 entries, providing a robust sample size for analysis. Importantly, there are no missing values across any columns, which means the data is complete and ready for preprocessing without needing to handle missing information. The data types are appropriate for their features, with most columns being integers or floats, and the target variable stored as an object (categorical).\n",
        "\n",
        "Basic statistics show interesting details — for example, most students attend daytime classes, the average previous qualification grade is around 133, and economic factors like unemployment rate and inflation vary moderately across records. This overview helps us understand the scope and quality of the data, setting a strong foundation for the next steps of cleaning, feature engineering, and modeling."
      ],
      "metadata": {
        "id": "EbKK38yxuVWT"
      }
    },
    {
      "cell_type": "markdown",
      "source": [
        "We start by converting the categorical target column (Dropout, Enrolled, Graduate) into numerical values using label encoding. This is important because machine learning models require numeric input for the target variable. Next, we list all the categorical and numerical columns separately. This helps us apply different preprocessing methods to each type of data correctly. For all categorical columns, we apply one-hot encoding. This transforms each category into binary features so that models can understand and process categorical data. We standardize all numerical columns using a StandardScaler. Scaling ensures that these features have similar value ranges, which can improve model training stability and performance. Finally, we split the dataset into training (80%) and testing (20%) subsets. This allows us to train our model on one part of the data and evaluate its performance on the unseen test set."
      ],
      "metadata": {
        "id": "gRxA85wjLYBO"
      }
    },
    {
      "cell_type": "code",
      "source": [
        "from sklearn.preprocessing import LabelEncoder, StandardScaler\n",
        "from sklearn.model_selection import train_test_split\n",
        "import pandas as pd\n",
        "\n",
        "categorical_cols = [\n",
        "    'Marital status', 'Application mode', 'Application order', 'Course',\n",
        "    'Daytime/evening attendance\\t',\n",
        "    'Previous qualification', 'Nacionality',\n",
        "    \"Mother's qualification\", \"Father's qualification\", \"Mother's occupation\",\n",
        "    \"Father's occupation\", 'Displaced', 'Educational special needs', 'Debtor',\n",
        "    'Tuition fees up to date', 'Gender', 'Scholarship holder', 'International',\n",
        "    'Curricular units 1st sem (credited)', 'Curricular units 2nd sem (credited)'\n",
        "]\n",
        "\n",
        "numerical_cols = [\n",
        "    'Previous qualification (grade)', 'Admission grade', 'Age at enrollment',\n",
        "    'Curricular units 1st sem (enrolled)', 'Curricular units 1st sem (evaluations)',\n",
        "    'Curricular units 1st sem (approved)', 'Curricular units 1st sem (grade)',\n",
        "    'Curricular units 1st sem (without evaluations)',\n",
        "    'Curricular units 2nd sem (enrolled)', 'Curricular units 2nd sem (evaluations)',\n",
        "    'Curricular units 2nd sem (approved)', 'Curricular units 2nd sem (grade)',\n",
        "    'Curricular units 2nd sem (without evaluations)',\n",
        "    'Unemployment rate', 'Inflation rate', 'GDP'\n",
        "]\n",
        "\n",
        "# Label encode target\n",
        "le = LabelEncoder()\n",
        "df['Target'] = le.fit_transform(df['Target'])  # Target: Dropout, Enrolled, Graduate\n",
        "\n",
        "# One-hot encode categorical columns\n",
        "df_encoded = pd.get_dummies(df, columns=categorical_cols)\n",
        "\n",
        "# Split into features and target\n",
        "X = df_encoded.drop(\"Target\", axis=1)\n",
        "y = df_encoded[\"Target\"]\n",
        "\n",
        "# Train-test split\n",
        "X_train, X_test, y_train, y_test = train_test_split(X, y, test_size=0.2, random_state=42)\n",
        "\n",
        "# Scale numerical columns using StandardScaler\n",
        "scaler = StandardScaler()\n",
        "X_train[numerical_cols] = scaler.fit_transform(X_train[numerical_cols])\n",
        "X_test[numerical_cols] = scaler.transform(X_test[numerical_cols])"
      ],
      "metadata": {
        "id": "q03rdZfmbM7C"
      },
      "execution_count": null,
      "outputs": []
    },
    {
      "cell_type": "markdown",
      "source": [
        "In this section, we build a simple feedforward neural network to classify our multi-class target variable. First, we convert the target labels into one-hot encoded vectors, which is necessary for training with categorical crossentropy loss. The model consists of two hidden layers with ReLU activation and dropout to help prevent overfitting, followed by a softmax output layer to predict class probabilities. We compile the model using the Adam optimizer and train it for 50 epochs, keeping aside a part of the training data for validation. Finally, we evaluate the model on the test set and print the accuracy to see how well it performs on unseen data."
      ],
      "metadata": {
        "id": "MjVPbKbBuoxi"
      }
    },
    {
      "cell_type": "code",
      "source": [
        "import numpy as np\n",
        "import tensorflow as tf\n",
        "from tensorflow.keras.models import Sequential\n",
        "from tensorflow.keras.layers import Dense, Dropout\n",
        "from tensorflow.keras.utils import to_categorical\n",
        "from sklearn.model_selection import train_test_split\n",
        "\n",
        "\n",
        "# One-hot encode the target (multi-class classification)\n",
        "num_classes = len(np.unique(y))\n",
        "y_train_cat = to_categorical(y_train, num_classes=num_classes)\n",
        "y_test_cat = to_categorical(y_test, num_classes=num_classes)\n",
        "\n",
        "# Build FNN model\n",
        "model = Sequential([\n",
        "    Dense(128, activation='relu', input_shape=(X_train.shape[1],)),\n",
        "    Dropout(0.3),\n",
        "    Dense(64, activation='relu'),\n",
        "    Dropout(0.2),\n",
        "    Dense(num_classes, activation='softmax')  # for multi-class output\n",
        "])\n",
        "\n",
        "# Compile model\n",
        "model.compile(\n",
        "    optimizer='adam',\n",
        "    loss='categorical_crossentropy',\n",
        "    metrics=['accuracy']\n",
        ")\n",
        "\n",
        "# Train model\n",
        "history = model.fit(\n",
        "    X_train, y_train_cat,\n",
        "    epochs=50,\n",
        "    batch_size=32,\n",
        "    validation_split=0.2,\n",
        "    verbose=1\n",
        ")\n",
        "\n",
        "# Evaluate model\n",
        "loss, accuracy = model.evaluate(X_test, y_test_cat)\n",
        "print(f\"Test Accuracy: {accuracy:.4f}\")"
      ],
      "metadata": {
        "colab": {
          "base_uri": "https://localhost:8080/"
        },
        "id": "zbMQz3TLrBjs",
        "outputId": "dbaa115e-2d52-4b44-e467-54e0f19f04b0"
      },
      "execution_count": null,
      "outputs": [
        {
          "output_type": "stream",
          "name": "stdout",
          "text": [
            "Epoch 1/50\n"
          ]
        },
        {
          "output_type": "stream",
          "name": "stderr",
          "text": [
            "/usr/local/lib/python3.11/dist-packages/keras/src/layers/core/dense.py:87: UserWarning: Do not pass an `input_shape`/`input_dim` argument to a layer. When using Sequential models, prefer using an `Input(shape)` object as the first layer in the model instead.\n",
            "  super().__init__(activity_regularizer=activity_regularizer, **kwargs)\n"
          ]
        },
        {
          "output_type": "stream",
          "name": "stdout",
          "text": [
            "\u001b[1m89/89\u001b[0m \u001b[32m━━━━━━━━━━━━━━━━━━━━\u001b[0m\u001b[37m\u001b[0m \u001b[1m2s\u001b[0m 6ms/step - accuracy: 0.6196 - loss: 0.8790 - val_accuracy: 0.7542 - val_loss: 0.6226\n",
            "Epoch 2/50\n",
            "\u001b[1m89/89\u001b[0m \u001b[32m━━━━━━━━━━━━━━━━━━━━\u001b[0m\u001b[37m\u001b[0m \u001b[1m1s\u001b[0m 4ms/step - accuracy: 0.7510 - loss: 0.6292 - val_accuracy: 0.7585 - val_loss: 0.6079\n",
            "Epoch 3/50\n",
            "\u001b[1m89/89\u001b[0m \u001b[32m━━━━━━━━━━━━━━━━━━━━\u001b[0m\u001b[37m\u001b[0m \u001b[1m1s\u001b[0m 4ms/step - accuracy: 0.7711 - loss: 0.5715 - val_accuracy: 0.7641 - val_loss: 0.5727\n",
            "Epoch 4/50\n",
            "\u001b[1m89/89\u001b[0m \u001b[32m━━━━━━━━━━━━━━━━━━━━\u001b[0m\u001b[37m\u001b[0m \u001b[1m0s\u001b[0m 4ms/step - accuracy: 0.7883 - loss: 0.5294 - val_accuracy: 0.7768 - val_loss: 0.5728\n",
            "Epoch 5/50\n",
            "\u001b[1m89/89\u001b[0m \u001b[32m━━━━━━━━━━━━━━━━━━━━\u001b[0m\u001b[37m\u001b[0m \u001b[1m0s\u001b[0m 5ms/step - accuracy: 0.7987 - loss: 0.5260 - val_accuracy: 0.7754 - val_loss: 0.5899\n",
            "Epoch 6/50\n",
            "\u001b[1m89/89\u001b[0m \u001b[32m━━━━━━━━━━━━━━━━━━━━\u001b[0m\u001b[37m\u001b[0m \u001b[1m1s\u001b[0m 5ms/step - accuracy: 0.8055 - loss: 0.4875 - val_accuracy: 0.7754 - val_loss: 0.5634\n",
            "Epoch 7/50\n",
            "\u001b[1m89/89\u001b[0m \u001b[32m━━━━━━━━━━━━━━━━━━━━\u001b[0m\u001b[37m\u001b[0m \u001b[1m0s\u001b[0m 4ms/step - accuracy: 0.8109 - loss: 0.4815 - val_accuracy: 0.7825 - val_loss: 0.5684\n",
            "Epoch 8/50\n",
            "\u001b[1m89/89\u001b[0m \u001b[32m━━━━━━━━━━━━━━━━━━━━\u001b[0m\u001b[37m\u001b[0m \u001b[1m1s\u001b[0m 6ms/step - accuracy: 0.8242 - loss: 0.4655 - val_accuracy: 0.7867 - val_loss: 0.5665\n",
            "Epoch 9/50\n",
            "\u001b[1m89/89\u001b[0m \u001b[32m━━━━━━━━━━━━━━━━━━━━\u001b[0m\u001b[37m\u001b[0m \u001b[1m1s\u001b[0m 7ms/step - accuracy: 0.8332 - loss: 0.4421 - val_accuracy: 0.7867 - val_loss: 0.5706\n",
            "Epoch 10/50\n",
            "\u001b[1m89/89\u001b[0m \u001b[32m━━━━━━━━━━━━━━━━━━━━\u001b[0m\u001b[37m\u001b[0m \u001b[1m1s\u001b[0m 7ms/step - accuracy: 0.8410 - loss: 0.4171 - val_accuracy: 0.7938 - val_loss: 0.5787\n",
            "Epoch 11/50\n",
            "\u001b[1m89/89\u001b[0m \u001b[32m━━━━━━━━━━━━━━━━━━━━\u001b[0m\u001b[37m\u001b[0m \u001b[1m1s\u001b[0m 6ms/step - accuracy: 0.8473 - loss: 0.3986 - val_accuracy: 0.7853 - val_loss: 0.5784\n",
            "Epoch 12/50\n",
            "\u001b[1m89/89\u001b[0m \u001b[32m━━━━━━━━━━━━━━━━━━━━\u001b[0m\u001b[37m\u001b[0m \u001b[1m0s\u001b[0m 5ms/step - accuracy: 0.8635 - loss: 0.3831 - val_accuracy: 0.7712 - val_loss: 0.6020\n",
            "Epoch 13/50\n",
            "\u001b[1m89/89\u001b[0m \u001b[32m━━━━━━━━━━━━━━━━━━━━\u001b[0m\u001b[37m\u001b[0m \u001b[1m1s\u001b[0m 4ms/step - accuracy: 0.8621 - loss: 0.3636 - val_accuracy: 0.7811 - val_loss: 0.6027\n",
            "Epoch 14/50\n",
            "\u001b[1m89/89\u001b[0m \u001b[32m━━━━━━━━━━━━━━━━━━━━\u001b[0m\u001b[37m\u001b[0m \u001b[1m0s\u001b[0m 5ms/step - accuracy: 0.8651 - loss: 0.3516 - val_accuracy: 0.7712 - val_loss: 0.6184\n",
            "Epoch 15/50\n",
            "\u001b[1m89/89\u001b[0m \u001b[32m━━━━━━━━━━━━━━━━━━━━\u001b[0m\u001b[37m\u001b[0m \u001b[1m1s\u001b[0m 4ms/step - accuracy: 0.8748 - loss: 0.3314 - val_accuracy: 0.7853 - val_loss: 0.6161\n",
            "Epoch 16/50\n",
            "\u001b[1m89/89\u001b[0m \u001b[32m━━━━━━━━━━━━━━━━━━━━\u001b[0m\u001b[37m\u001b[0m \u001b[1m0s\u001b[0m 5ms/step - accuracy: 0.8882 - loss: 0.3159 - val_accuracy: 0.7768 - val_loss: 0.6251\n",
            "Epoch 17/50\n",
            "\u001b[1m89/89\u001b[0m \u001b[32m━━━━━━━━━━━━━━━━━━━━\u001b[0m\u001b[37m\u001b[0m \u001b[1m0s\u001b[0m 4ms/step - accuracy: 0.8913 - loss: 0.2834 - val_accuracy: 0.7839 - val_loss: 0.6328\n",
            "Epoch 18/50\n",
            "\u001b[1m89/89\u001b[0m \u001b[32m━━━━━━━━━━━━━━━━━━━━\u001b[0m\u001b[37m\u001b[0m \u001b[1m0s\u001b[0m 5ms/step - accuracy: 0.9054 - loss: 0.2642 - val_accuracy: 0.7754 - val_loss: 0.6480\n",
            "Epoch 19/50\n",
            "\u001b[1m89/89\u001b[0m \u001b[32m━━━━━━━━━━━━━━━━━━━━\u001b[0m\u001b[37m\u001b[0m \u001b[1m1s\u001b[0m 4ms/step - accuracy: 0.8870 - loss: 0.2860 - val_accuracy: 0.7839 - val_loss: 0.6603\n",
            "Epoch 20/50\n",
            "\u001b[1m89/89\u001b[0m \u001b[32m━━━━━━━━━━━━━━━━━━━━\u001b[0m\u001b[37m\u001b[0m \u001b[1m1s\u001b[0m 4ms/step - accuracy: 0.9159 - loss: 0.2442 - val_accuracy: 0.7811 - val_loss: 0.6991\n",
            "Epoch 21/50\n",
            "\u001b[1m89/89\u001b[0m \u001b[32m━━━━━━━━━━━━━━━━━━━━\u001b[0m\u001b[37m\u001b[0m \u001b[1m0s\u001b[0m 5ms/step - accuracy: 0.9011 - loss: 0.2510 - val_accuracy: 0.7867 - val_loss: 0.7145\n",
            "Epoch 22/50\n",
            "\u001b[1m89/89\u001b[0m \u001b[32m━━━━━━━━━━━━━━━━━━━━\u001b[0m\u001b[37m\u001b[0m \u001b[1m1s\u001b[0m 4ms/step - accuracy: 0.9146 - loss: 0.2472 - val_accuracy: 0.7825 - val_loss: 0.7003\n",
            "Epoch 23/50\n",
            "\u001b[1m89/89\u001b[0m \u001b[32m━━━━━━━━━━━━━━━━━━━━\u001b[0m\u001b[37m\u001b[0m \u001b[1m1s\u001b[0m 4ms/step - accuracy: 0.9253 - loss: 0.2153 - val_accuracy: 0.7740 - val_loss: 0.7092\n",
            "Epoch 24/50\n",
            "\u001b[1m89/89\u001b[0m \u001b[32m━━━━━━━━━━━━━━━━━━━━\u001b[0m\u001b[37m\u001b[0m \u001b[1m1s\u001b[0m 5ms/step - accuracy: 0.9267 - loss: 0.1998 - val_accuracy: 0.7811 - val_loss: 0.7380\n",
            "Epoch 25/50\n",
            "\u001b[1m89/89\u001b[0m \u001b[32m━━━━━━━━━━━━━━━━━━━━\u001b[0m\u001b[37m\u001b[0m \u001b[1m1s\u001b[0m 4ms/step - accuracy: 0.9157 - loss: 0.2231 - val_accuracy: 0.7726 - val_loss: 0.7562\n",
            "Epoch 26/50\n",
            "\u001b[1m89/89\u001b[0m \u001b[32m━━━━━━━━━━━━━━━━━━━━\u001b[0m\u001b[37m\u001b[0m \u001b[1m1s\u001b[0m 4ms/step - accuracy: 0.9210 - loss: 0.1958 - val_accuracy: 0.7754 - val_loss: 0.7826\n",
            "Epoch 27/50\n",
            "\u001b[1m89/89\u001b[0m \u001b[32m━━━━━━━━━━━━━━━━━━━━\u001b[0m\u001b[37m\u001b[0m \u001b[1m0s\u001b[0m 4ms/step - accuracy: 0.9383 - loss: 0.1694 - val_accuracy: 0.7768 - val_loss: 0.7871\n",
            "Epoch 28/50\n",
            "\u001b[1m89/89\u001b[0m \u001b[32m━━━━━━━━━━━━━━━━━━━━\u001b[0m\u001b[37m\u001b[0m \u001b[1m0s\u001b[0m 5ms/step - accuracy: 0.9346 - loss: 0.1906 - val_accuracy: 0.7853 - val_loss: 0.7908\n",
            "Epoch 29/50\n",
            "\u001b[1m89/89\u001b[0m \u001b[32m━━━━━━━━━━━━━━━━━━━━\u001b[0m\u001b[37m\u001b[0m \u001b[1m1s\u001b[0m 4ms/step - accuracy: 0.9263 - loss: 0.1890 - val_accuracy: 0.7797 - val_loss: 0.8214\n",
            "Epoch 30/50\n",
            "\u001b[1m89/89\u001b[0m \u001b[32m━━━━━━━━━━━━━━━━━━━━\u001b[0m\u001b[37m\u001b[0m \u001b[1m1s\u001b[0m 5ms/step - accuracy: 0.9442 - loss: 0.1655 - val_accuracy: 0.7740 - val_loss: 0.8076\n",
            "Epoch 31/50\n",
            "\u001b[1m89/89\u001b[0m \u001b[32m━━━━━━━━━━━━━━━━━━━━\u001b[0m\u001b[37m\u001b[0m \u001b[1m1s\u001b[0m 7ms/step - accuracy: 0.9463 - loss: 0.1525 - val_accuracy: 0.7797 - val_loss: 0.8800\n",
            "Epoch 32/50\n",
            "\u001b[1m89/89\u001b[0m \u001b[32m━━━━━━━━━━━━━━━━━━━━\u001b[0m\u001b[37m\u001b[0m \u001b[1m1s\u001b[0m 6ms/step - accuracy: 0.9500 - loss: 0.1378 - val_accuracy: 0.7825 - val_loss: 0.8956\n",
            "Epoch 33/50\n",
            "\u001b[1m89/89\u001b[0m \u001b[32m━━━━━━━━━━━━━━━━━━━━\u001b[0m\u001b[37m\u001b[0m \u001b[1m1s\u001b[0m 6ms/step - accuracy: 0.9526 - loss: 0.1370 - val_accuracy: 0.7712 - val_loss: 0.9108\n",
            "Epoch 34/50\n",
            "\u001b[1m89/89\u001b[0m \u001b[32m━━━━━━━━━━━━━━━━━━━━\u001b[0m\u001b[37m\u001b[0m \u001b[1m0s\u001b[0m 4ms/step - accuracy: 0.9467 - loss: 0.1397 - val_accuracy: 0.7768 - val_loss: 0.9709\n",
            "Epoch 35/50\n",
            "\u001b[1m89/89\u001b[0m \u001b[32m━━━━━━━━━━━━━━━━━━━━\u001b[0m\u001b[37m\u001b[0m \u001b[1m1s\u001b[0m 6ms/step - accuracy: 0.9598 - loss: 0.1135 - val_accuracy: 0.7853 - val_loss: 1.0107\n",
            "Epoch 36/50\n",
            "\u001b[1m89/89\u001b[0m \u001b[32m━━━━━━━━━━━━━━━━━━━━\u001b[0m\u001b[37m\u001b[0m \u001b[1m0s\u001b[0m 4ms/step - accuracy: 0.9485 - loss: 0.1393 - val_accuracy: 0.7613 - val_loss: 0.9749\n",
            "Epoch 37/50\n",
            "\u001b[1m89/89\u001b[0m \u001b[32m━━━━━━━━━━━━━━━━━━━━\u001b[0m\u001b[37m\u001b[0m \u001b[1m1s\u001b[0m 4ms/step - accuracy: 0.9528 - loss: 0.1351 - val_accuracy: 0.7684 - val_loss: 0.9989\n",
            "Epoch 38/50\n",
            "\u001b[1m89/89\u001b[0m \u001b[32m━━━━━━━━━━━━━━━━━━━━\u001b[0m\u001b[37m\u001b[0m \u001b[1m1s\u001b[0m 6ms/step - accuracy: 0.9567 - loss: 0.1234 - val_accuracy: 0.7754 - val_loss: 1.0628\n",
            "Epoch 39/50\n",
            "\u001b[1m89/89\u001b[0m \u001b[32m━━━━━━━━━━━━━━━━━━━━\u001b[0m\u001b[37m\u001b[0m \u001b[1m0s\u001b[0m 4ms/step - accuracy: 0.9606 - loss: 0.1093 - val_accuracy: 0.7867 - val_loss: 0.9775\n",
            "Epoch 40/50\n",
            "\u001b[1m89/89\u001b[0m \u001b[32m━━━━━━━━━━━━━━━━━━━━\u001b[0m\u001b[37m\u001b[0m \u001b[1m0s\u001b[0m 4ms/step - accuracy: 0.9611 - loss: 0.1131 - val_accuracy: 0.7627 - val_loss: 0.9968\n",
            "Epoch 41/50\n",
            "\u001b[1m89/89\u001b[0m \u001b[32m━━━━━━━━━━━━━━━━━━━━\u001b[0m\u001b[37m\u001b[0m \u001b[1m0s\u001b[0m 4ms/step - accuracy: 0.9589 - loss: 0.1177 - val_accuracy: 0.7613 - val_loss: 1.0529\n",
            "Epoch 42/50\n",
            "\u001b[1m89/89\u001b[0m \u001b[32m━━━━━━━━━━━━━━━━━━━━\u001b[0m\u001b[37m\u001b[0m \u001b[1m0s\u001b[0m 4ms/step - accuracy: 0.9586 - loss: 0.1150 - val_accuracy: 0.7669 - val_loss: 1.0517\n",
            "Epoch 43/50\n",
            "\u001b[1m89/89\u001b[0m \u001b[32m━━━━━━━━━━━━━━━━━━━━\u001b[0m\u001b[37m\u001b[0m \u001b[1m1s\u001b[0m 5ms/step - accuracy: 0.9607 - loss: 0.1060 - val_accuracy: 0.7726 - val_loss: 1.1204\n",
            "Epoch 44/50\n",
            "\u001b[1m89/89\u001b[0m \u001b[32m━━━━━━━━━━━━━━━━━━━━\u001b[0m\u001b[37m\u001b[0m \u001b[1m1s\u001b[0m 4ms/step - accuracy: 0.9597 - loss: 0.1111 - val_accuracy: 0.7669 - val_loss: 1.1359\n",
            "Epoch 45/50\n",
            "\u001b[1m89/89\u001b[0m \u001b[32m━━━━━━━━━━━━━━━━━━━━\u001b[0m\u001b[37m\u001b[0m \u001b[1m1s\u001b[0m 5ms/step - accuracy: 0.9600 - loss: 0.1091 - val_accuracy: 0.7698 - val_loss: 1.1085\n",
            "Epoch 46/50\n",
            "\u001b[1m89/89\u001b[0m \u001b[32m━━━━━━━━━━━━━━━━━━━━\u001b[0m\u001b[37m\u001b[0m \u001b[1m0s\u001b[0m 4ms/step - accuracy: 0.9704 - loss: 0.0916 - val_accuracy: 0.7655 - val_loss: 1.1255\n",
            "Epoch 47/50\n",
            "\u001b[1m89/89\u001b[0m \u001b[32m━━━━━━━━━━━━━━━━━━━━\u001b[0m\u001b[37m\u001b[0m \u001b[1m0s\u001b[0m 4ms/step - accuracy: 0.9753 - loss: 0.0859 - val_accuracy: 0.7754 - val_loss: 1.1305\n",
            "Epoch 48/50\n",
            "\u001b[1m89/89\u001b[0m \u001b[32m━━━━━━━━━━━━━━━━━━━━\u001b[0m\u001b[37m\u001b[0m \u001b[1m0s\u001b[0m 4ms/step - accuracy: 0.9695 - loss: 0.0874 - val_accuracy: 0.7768 - val_loss: 1.1847\n",
            "Epoch 49/50\n",
            "\u001b[1m89/89\u001b[0m \u001b[32m━━━━━━━━━━━━━━━━━━━━\u001b[0m\u001b[37m\u001b[0m \u001b[1m0s\u001b[0m 5ms/step - accuracy: 0.9728 - loss: 0.0789 - val_accuracy: 0.7797 - val_loss: 1.1536\n",
            "Epoch 50/50\n",
            "\u001b[1m89/89\u001b[0m \u001b[32m━━━━━━━━━━━━━━━━━━━━\u001b[0m\u001b[37m\u001b[0m \u001b[1m0s\u001b[0m 4ms/step - accuracy: 0.9760 - loss: 0.0796 - val_accuracy: 0.7768 - val_loss: 1.2109\n",
            "\u001b[1m28/28\u001b[0m \u001b[32m━━━━━━━━━━━━━━━━━━━━\u001b[0m\u001b[37m\u001b[0m \u001b[1m0s\u001b[0m 3ms/step - accuracy: 0.7876 - loss: 1.3209 \n",
            "Test Accuracy: 0.7729\n"
          ]
        }
      ]
    },
    {
      "cell_type": "markdown",
      "source": [
        "The model was trained for 50 epochs with a feedforward neural network architecture. Training accuracy reached above 97%, while validation accuracy stabilized around 77%, indicating some overfitting. The final test accuracy achieved was approximately 75%. Further improvements can be made by applying regularization techniques and hyperparameter tuning to enhance generalization."
      ],
      "metadata": {
        "id": "7erkl16HOlDj"
      }
    },
    {
      "cell_type": "markdown",
      "source": [
        "In this section, we compare the effects of different optimization algorithms—SGD with momentum, Adam, and RMSprop—on the training and performance of a feedforward neural network. This helps identify which optimizer yields better accuracy and generalization on the test set."
      ],
      "metadata": {
        "id": "a3tICT964HV3"
      }
    },
    {
      "cell_type": "code",
      "source": [
        "import tensorflow as tf\n",
        "from tensorflow.keras.models import Sequential\n",
        "from tensorflow.keras.layers import Dense, Dropout\n",
        "from tensorflow.keras.optimizers import SGD, Adam, RMSprop\n",
        "from sklearn.metrics import classification_report\n",
        "\n",
        "# Function to build and compile the model\n",
        "def create_model(optimizer):\n",
        "    model = Sequential()\n",
        "    model.add(Dense(64, activation='relu', input_shape=(X_train.shape[1],)))\n",
        "    model.add(Dropout(0.3))\n",
        "    model.add(Dense(32, activation='relu'))\n",
        "    model.add(Dropout(0.3))\n",
        "    model.add(Dense(3, activation='softmax'))  # 3 classes\n",
        "\n",
        "    model.compile(optimizer=optimizer, loss='categorical_crossentropy', metrics=['accuracy'])\n",
        "    return model\n",
        "\n",
        "# Dictionary of optimisers to try\n",
        "optimizers = {\n",
        "    \"SGD\": SGD(learning_rate=0.01, momentum=0.9),\n",
        "    \"Adam\": Adam(learning_rate=0.001),\n",
        "    \"RMSprop\": RMSprop(learning_rate=0.001)\n",
        "}\n",
        "\n",
        "# Train and evaluate for each optimiser\n",
        "for name, opt in optimizers.items():\n",
        "    print(f\"\\n🧪 Training with {name} optimiser...\")\n",
        "    model = create_model(opt)\n",
        "    history = model.fit(X_train, y_train_cat, epochs=50, batch_size=32,\n",
        "                        validation_data=(X_test, y_test_cat), verbose=0)\n",
        "\n",
        "    # Evaluate\n",
        "    loss, accuracy = model.evaluate(X_test, y_test_cat, verbose=0)\n",
        "    print(f\"✅ {name} - Test Accuracy: {accuracy:.4f}\")\n",
        "\n",
        "    # Optional: classification report\n",
        "    y_pred = model.predict(X_test)\n",
        "    y_pred_labels = tf.argmax(y_pred, axis=1)\n",
        "    y_true_labels = tf.argmax(y_test_cat, axis=1)\n",
        "    print(classification_report(y_true_labels, y_pred_labels))\n"
      ],
      "metadata": {
        "colab": {
          "base_uri": "https://localhost:8080/"
        },
        "id": "lPEj-R1j_QnW",
        "outputId": "3fc124f4-7317-4465-80ac-1dd5b613dcd9"
      },
      "execution_count": null,
      "outputs": [
        {
          "output_type": "stream",
          "name": "stdout",
          "text": [
            "\n",
            "🧪 Training with SGD optimiser...\n"
          ]
        },
        {
          "output_type": "stream",
          "name": "stderr",
          "text": [
            "/usr/local/lib/python3.11/dist-packages/keras/src/layers/core/dense.py:87: UserWarning: Do not pass an `input_shape`/`input_dim` argument to a layer. When using Sequential models, prefer using an `Input(shape)` object as the first layer in the model instead.\n",
            "  super().__init__(activity_regularizer=activity_regularizer, **kwargs)\n"
          ]
        },
        {
          "output_type": "stream",
          "name": "stdout",
          "text": [
            "✅ SGD - Test Accuracy: 0.7480\n",
            "\u001b[1m28/28\u001b[0m \u001b[32m━━━━━━━━━━━━━━━━━━━━\u001b[0m\u001b[37m\u001b[0m \u001b[1m0s\u001b[0m 3ms/step\n",
            "              precision    recall  f1-score   support\n",
            "\n",
            "           0       0.85      0.70      0.77       316\n",
            "           1       0.43      0.38      0.41       151\n",
            "           2       0.78      0.92      0.84       418\n",
            "\n",
            "    accuracy                           0.75       885\n",
            "   macro avg       0.69      0.67      0.67       885\n",
            "weighted avg       0.75      0.75      0.74       885\n",
            "\n",
            "\n",
            "🧪 Training with Adam optimiser...\n"
          ]
        },
        {
          "output_type": "stream",
          "name": "stderr",
          "text": [
            "/usr/local/lib/python3.11/dist-packages/keras/src/layers/core/dense.py:87: UserWarning: Do not pass an `input_shape`/`input_dim` argument to a layer. When using Sequential models, prefer using an `Input(shape)` object as the first layer in the model instead.\n",
            "  super().__init__(activity_regularizer=activity_regularizer, **kwargs)\n"
          ]
        },
        {
          "output_type": "stream",
          "name": "stdout",
          "text": [
            "✅ Adam - Test Accuracy: 0.7582\n",
            "\u001b[1m28/28\u001b[0m \u001b[32m━━━━━━━━━━━━━━━━━━━━\u001b[0m\u001b[37m\u001b[0m \u001b[1m0s\u001b[0m 3ms/step\n",
            "              precision    recall  f1-score   support\n",
            "\n",
            "           0       0.80      0.76      0.78       316\n",
            "           1       0.50      0.39      0.44       151\n",
            "           2       0.79      0.89      0.84       418\n",
            "\n",
            "    accuracy                           0.76       885\n",
            "   macro avg       0.70      0.68      0.69       885\n",
            "weighted avg       0.75      0.76      0.75       885\n",
            "\n",
            "\n",
            "🧪 Training with RMSprop optimiser...\n"
          ]
        },
        {
          "output_type": "stream",
          "name": "stderr",
          "text": [
            "/usr/local/lib/python3.11/dist-packages/keras/src/layers/core/dense.py:87: UserWarning: Do not pass an `input_shape`/`input_dim` argument to a layer. When using Sequential models, prefer using an `Input(shape)` object as the first layer in the model instead.\n",
            "  super().__init__(activity_regularizer=activity_regularizer, **kwargs)\n"
          ]
        },
        {
          "output_type": "stream",
          "name": "stdout",
          "text": [
            "✅ RMSprop - Test Accuracy: 0.7469\n",
            "\u001b[1m28/28\u001b[0m \u001b[32m━━━━━━━━━━━━━━━━━━━━\u001b[0m\u001b[37m\u001b[0m \u001b[1m0s\u001b[0m 4ms/step\n",
            "              precision    recall  f1-score   support\n",
            "\n",
            "           0       0.81      0.72      0.76       316\n",
            "           1       0.46      0.40      0.43       151\n",
            "           2       0.79      0.90      0.84       418\n",
            "\n",
            "    accuracy                           0.75       885\n",
            "   macro avg       0.69      0.67      0.68       885\n",
            "weighted avg       0.74      0.75      0.74       885\n",
            "\n"
          ]
        }
      ]
    },
    {
      "cell_type": "markdown",
      "source": [
        "The comparison shows that SGD and Adam optimizers achieved the highest test accuracy (~75.7%), with similar precision and recall scores across classes. RMSprop performed slightly lower but still comparable. These results indicate that the choice of optimizer can impact not only overall accuracy but also class-wise performance, so selecting an optimizer should consider the specific requirements of the problem.\n",
        "\n",
        "\n",
        "\n",
        "\n",
        "\n",
        "\n",
        "\n",
        "\n"
      ],
      "metadata": {
        "id": "n6oM-6QoPPEv"
      }
    },
    {
      "cell_type": "markdown",
      "source": [
        "Nex, we compares the impact of three regularization methods — L1, L2, and Dropout — on the performance of a neural network model. Each model is trained for 50 epochs on the same dataset, and their training and validation accuracies are plotted to visualize how these techniques affect learning and overfitting. Regularization helps improve generalization by penalizing complex models or randomly dropping units during training."
      ],
      "metadata": {
        "id": "XU-X8pde4du0"
      }
    },
    {
      "cell_type": "code",
      "source": [
        "from keras.models import Sequential\n",
        "from keras.layers import Dense, Dropout\n",
        "from keras import regularizers\n",
        "from keras.optimizers import Adam\n",
        "import matplotlib.pyplot as plt\n",
        "\n",
        "# Define model architectures\n",
        "def create_model_l1():\n",
        "    model = Sequential([\n",
        "        Dense(64, activation='relu', kernel_regularizer=regularizers.l1(0.01), input_shape=(X_train.shape[1],)),\n",
        "        Dense(32, activation='relu', kernel_regularizer=regularizers.l1(0.01)),\n",
        "        Dense(3, activation='softmax')\n",
        "    ])\n",
        "    model.compile(optimizer=Adam(), loss='categorical_crossentropy', metrics=['accuracy'])\n",
        "    return model\n",
        "\n",
        "def create_model_l2():\n",
        "    model = Sequential([\n",
        "        Dense(64, activation='relu', kernel_regularizer=regularizers.l2(0.01), input_shape=(X_train.shape[1],)),\n",
        "        Dense(32, activation='relu', kernel_regularizer=regularizers.l2(0.01)),\n",
        "        Dense(3, activation='softmax')\n",
        "    ])\n",
        "    model.compile(optimizer=Adam(), loss='categorical_crossentropy', metrics=['accuracy'])\n",
        "    return model\n",
        "\n",
        "def create_model_dropout():\n",
        "    model = Sequential([\n",
        "        Dense(64, activation='relu', input_shape=(X_train.shape[1],)),\n",
        "        Dropout(0.5),\n",
        "        Dense(32, activation='relu'),\n",
        "        Dropout(0.3),\n",
        "        Dense(3, activation='softmax')\n",
        "    ])\n",
        "    model.compile(optimizer=Adam(), loss='categorical_crossentropy', metrics=['accuracy'])\n",
        "    return model\n",
        "\n",
        "# Dictionary of models\n",
        "models = {\n",
        "    'L1 Regularisation': create_model_l1,\n",
        "    'L2 Regularisation': create_model_l2,\n",
        "    'Dropout Regularisation': create_model_dropout\n",
        "}\n",
        "\n",
        "# Train and evaluate each model\n",
        "histories = {}\n",
        "\n",
        "for name, create_fn in models.items():\n",
        "    print(f\"\\n🔧 Training with {name}...\")\n",
        "    model = create_fn()\n",
        "    history = model.fit(X_train, y_train_cat, epochs=50, batch_size=32,\n",
        "                        validation_data=(X_test, y_test_cat), verbose=1)\n",
        "    histories[name] = history\n",
        "\n",
        "# Plotting accuracy for comparison\n",
        "plt.figure(figsize=(12, 6))\n",
        "for name, history in histories.items():\n",
        "    plt.plot(history.history['val_accuracy'], label=f'{name} (val)')\n",
        "    plt.plot(history.history['accuracy'], linestyle='dashed', label=f'{name} (train)')\n",
        "\n",
        "plt.title(\"Model Accuracy Comparison\")\n",
        "plt.xlabel(\"Epochs\")\n",
        "plt.ylabel(\"Accuracy\")\n",
        "plt.legend()\n",
        "plt.grid(True)\n",
        "plt.show()\n"
      ],
      "metadata": {
        "colab": {
          "base_uri": "https://localhost:8080/",
          "height": 1000
        },
        "id": "191aQMsNVepT",
        "outputId": "d906cc7e-1fbb-416d-e022-435b612675b6"
      },
      "execution_count": null,
      "outputs": [
        {
          "output_type": "stream",
          "name": "stdout",
          "text": [
            "\n",
            "🔧 Training with L1 Regularisation...\n",
            "Epoch 1/50\n"
          ]
        },
        {
          "output_type": "stream",
          "name": "stderr",
          "text": [
            "/usr/local/lib/python3.11/dist-packages/keras/src/layers/core/dense.py:87: UserWarning: Do not pass an `input_shape`/`input_dim` argument to a layer. When using Sequential models, prefer using an `Input(shape)` object as the first layer in the model instead.\n",
            "  super().__init__(activity_regularizer=activity_regularizer, **kwargs)\n"
          ]
        },
        {
          "output_type": "stream",
          "name": "stdout",
          "text": [
            "\u001b[1m111/111\u001b[0m \u001b[32m━━━━━━━━━━━━━━━━━━━━\u001b[0m\u001b[37m\u001b[0m \u001b[1m3s\u001b[0m 6ms/step - accuracy: 0.5896 - loss: 11.3541 - val_accuracy: 0.6915 - val_loss: 2.4899\n",
            "Epoch 2/50\n",
            "\u001b[1m111/111\u001b[0m \u001b[32m━━━━━━━━━━━━━━━━━━━━\u001b[0m\u001b[37m\u001b[0m \u001b[1m1s\u001b[0m 5ms/step - accuracy: 0.7064 - loss: 1.9074 - val_accuracy: 0.7277 - val_loss: 1.1289\n",
            "Epoch 3/50\n",
            "\u001b[1m111/111\u001b[0m \u001b[32m━━━━━━━━━━━━━━━━━━━━\u001b[0m\u001b[37m\u001b[0m \u001b[1m0s\u001b[0m 3ms/step - accuracy: 0.7312 - loss: 1.0304 - val_accuracy: 0.7288 - val_loss: 0.9123\n",
            "Epoch 4/50\n",
            "\u001b[1m111/111\u001b[0m \u001b[32m━━━━━━━━━━━━━━━━━━━━\u001b[0m\u001b[37m\u001b[0m \u001b[1m1s\u001b[0m 3ms/step - accuracy: 0.7336 - loss: 0.8760 - val_accuracy: 0.7322 - val_loss: 0.8533\n",
            "Epoch 5/50\n",
            "\u001b[1m111/111\u001b[0m \u001b[32m━━━━━━━━━━━━━━━━━━━━\u001b[0m\u001b[37m\u001b[0m \u001b[1m1s\u001b[0m 4ms/step - accuracy: 0.7503 - loss: 0.8164 - val_accuracy: 0.7435 - val_loss: 0.8229\n",
            "Epoch 6/50\n",
            "\u001b[1m111/111\u001b[0m \u001b[32m━━━━━━━━━━━━━━━━━━━━\u001b[0m\u001b[37m\u001b[0m \u001b[1m1s\u001b[0m 3ms/step - accuracy: 0.7476 - loss: 0.7917 - val_accuracy: 0.7435 - val_loss: 0.8085\n",
            "Epoch 7/50\n",
            "\u001b[1m111/111\u001b[0m \u001b[32m━━━━━━━━━━━━━━━━━━━━\u001b[0m\u001b[37m\u001b[0m \u001b[1m0s\u001b[0m 3ms/step - accuracy: 0.7536 - loss: 0.7675 - val_accuracy: 0.7379 - val_loss: 0.7936\n",
            "Epoch 8/50\n",
            "\u001b[1m111/111\u001b[0m \u001b[32m━━━━━━━━━━━━━━━━━━━━\u001b[0m\u001b[37m\u001b[0m \u001b[1m1s\u001b[0m 3ms/step - accuracy: 0.7532 - loss: 0.7671 - val_accuracy: 0.7548 - val_loss: 0.7917\n",
            "Epoch 9/50\n",
            "\u001b[1m111/111\u001b[0m \u001b[32m━━━━━━━━━━━━━━━━━━━━\u001b[0m\u001b[37m\u001b[0m \u001b[1m1s\u001b[0m 4ms/step - accuracy: 0.7598 - loss: 0.7347 - val_accuracy: 0.7548 - val_loss: 0.7772\n",
            "Epoch 10/50\n",
            "\u001b[1m111/111\u001b[0m \u001b[32m━━━━━━━━━━━━━━━━━━━━\u001b[0m\u001b[37m\u001b[0m \u001b[1m1s\u001b[0m 3ms/step - accuracy: 0.7580 - loss: 0.7510 - val_accuracy: 0.7469 - val_loss: 0.7737\n",
            "Epoch 11/50\n",
            "\u001b[1m111/111\u001b[0m \u001b[32m━━━━━━━━━━━━━━━━━━━━\u001b[0m\u001b[37m\u001b[0m \u001b[1m1s\u001b[0m 3ms/step - accuracy: 0.7424 - loss: 0.7631 - val_accuracy: 0.7514 - val_loss: 0.7652\n",
            "Epoch 12/50\n",
            "\u001b[1m111/111\u001b[0m \u001b[32m━━━━━━━━━━━━━━━━━━━━\u001b[0m\u001b[37m\u001b[0m \u001b[1m1s\u001b[0m 4ms/step - accuracy: 0.7583 - loss: 0.7390 - val_accuracy: 0.7503 - val_loss: 0.7566\n",
            "Epoch 13/50\n",
            "\u001b[1m111/111\u001b[0m \u001b[32m━━━━━━━━━━━━━━━━━━━━\u001b[0m\u001b[37m\u001b[0m \u001b[1m1s\u001b[0m 3ms/step - accuracy: 0.7711 - loss: 0.7138 - val_accuracy: 0.7514 - val_loss: 0.7524\n",
            "Epoch 14/50\n",
            "\u001b[1m111/111\u001b[0m \u001b[32m━━━━━━━━━━━━━━━━━━━━\u001b[0m\u001b[37m\u001b[0m \u001b[1m0s\u001b[0m 4ms/step - accuracy: 0.7609 - loss: 0.7293 - val_accuracy: 0.7492 - val_loss: 0.7570\n",
            "Epoch 15/50\n",
            "\u001b[1m111/111\u001b[0m \u001b[32m━━━━━━━━━━━━━━━━━━━━\u001b[0m\u001b[37m\u001b[0m \u001b[1m1s\u001b[0m 3ms/step - accuracy: 0.7714 - loss: 0.7051 - val_accuracy: 0.7582 - val_loss: 0.7439\n",
            "Epoch 16/50\n",
            "\u001b[1m111/111\u001b[0m \u001b[32m━━━━━━━━━━━━━━━━━━━━\u001b[0m\u001b[37m\u001b[0m \u001b[1m1s\u001b[0m 5ms/step - accuracy: 0.7628 - loss: 0.7032 - val_accuracy: 0.7571 - val_loss: 0.7494\n",
            "Epoch 17/50\n",
            "\u001b[1m111/111\u001b[0m \u001b[32m━━━━━━━━━━━━━━━━━━━━\u001b[0m\u001b[37m\u001b[0m \u001b[1m1s\u001b[0m 7ms/step - accuracy: 0.7613 - loss: 0.7207 - val_accuracy: 0.7582 - val_loss: 0.7409\n",
            "Epoch 18/50\n",
            "\u001b[1m111/111\u001b[0m \u001b[32m━━━━━━━━━━━━━━━━━━━━\u001b[0m\u001b[37m\u001b[0m \u001b[1m1s\u001b[0m 6ms/step - accuracy: 0.7697 - loss: 0.6991 - val_accuracy: 0.7458 - val_loss: 0.7393\n",
            "Epoch 19/50\n",
            "\u001b[1m111/111\u001b[0m \u001b[32m━━━━━━━━━━━━━━━━━━━━\u001b[0m\u001b[37m\u001b[0m \u001b[1m1s\u001b[0m 5ms/step - accuracy: 0.7742 - loss: 0.7036 - val_accuracy: 0.7582 - val_loss: 0.7401\n",
            "Epoch 20/50\n",
            "\u001b[1m111/111\u001b[0m \u001b[32m━━━━━━━━━━━━━━━━━━━━\u001b[0m\u001b[37m\u001b[0m \u001b[1m0s\u001b[0m 3ms/step - accuracy: 0.7685 - loss: 0.7060 - val_accuracy: 0.7559 - val_loss: 0.7437\n",
            "Epoch 21/50\n",
            "\u001b[1m111/111\u001b[0m \u001b[32m━━━━━━━━━━━━━━━━━━━━\u001b[0m\u001b[37m\u001b[0m \u001b[1m0s\u001b[0m 4ms/step - accuracy: 0.7837 - loss: 0.6814 - val_accuracy: 0.7514 - val_loss: 0.7311\n",
            "Epoch 22/50\n",
            "\u001b[1m111/111\u001b[0m \u001b[32m━━━━━━━━━━━━━━━━━━━━\u001b[0m\u001b[37m\u001b[0m \u001b[1m0s\u001b[0m 3ms/step - accuracy: 0.7715 - loss: 0.6802 - val_accuracy: 0.7627 - val_loss: 0.7306\n",
            "Epoch 23/50\n",
            "\u001b[1m111/111\u001b[0m \u001b[32m━━━━━━━━━━━━━━━━━━━━\u001b[0m\u001b[37m\u001b[0m \u001b[1m1s\u001b[0m 4ms/step - accuracy: 0.7715 - loss: 0.6932 - val_accuracy: 0.7616 - val_loss: 0.7365\n",
            "Epoch 24/50\n",
            "\u001b[1m111/111\u001b[0m \u001b[32m━━━━━━━━━━━━━━━━━━━━\u001b[0m\u001b[37m\u001b[0m \u001b[1m1s\u001b[0m 4ms/step - accuracy: 0.7727 - loss: 0.6911 - val_accuracy: 0.7559 - val_loss: 0.7298\n",
            "Epoch 25/50\n",
            "\u001b[1m111/111\u001b[0m \u001b[32m━━━━━━━━━━━━━━━━━━━━\u001b[0m\u001b[37m\u001b[0m \u001b[1m1s\u001b[0m 4ms/step - accuracy: 0.7742 - loss: 0.6857 - val_accuracy: 0.7525 - val_loss: 0.7240\n",
            "Epoch 26/50\n",
            "\u001b[1m111/111\u001b[0m \u001b[32m━━━━━━━━━━━━━━━━━━━━\u001b[0m\u001b[37m\u001b[0m \u001b[1m1s\u001b[0m 3ms/step - accuracy: 0.7809 - loss: 0.6715 - val_accuracy: 0.7514 - val_loss: 0.7334\n",
            "Epoch 27/50\n",
            "\u001b[1m111/111\u001b[0m \u001b[32m━━━━━━━━━━━━━━━━━━━━\u001b[0m\u001b[37m\u001b[0m \u001b[1m1s\u001b[0m 4ms/step - accuracy: 0.7719 - loss: 0.7058 - val_accuracy: 0.7605 - val_loss: 0.7251\n",
            "Epoch 28/50\n",
            "\u001b[1m111/111\u001b[0m \u001b[32m━━━━━━━━━━━━━━━━━━━━\u001b[0m\u001b[37m\u001b[0m \u001b[1m1s\u001b[0m 4ms/step - accuracy: 0.7864 - loss: 0.6653 - val_accuracy: 0.7548 - val_loss: 0.7209\n",
            "Epoch 29/50\n",
            "\u001b[1m111/111\u001b[0m \u001b[32m━━━━━━━━━━━━━━━━━━━━\u001b[0m\u001b[37m\u001b[0m \u001b[1m1s\u001b[0m 3ms/step - accuracy: 0.7888 - loss: 0.6494 - val_accuracy: 0.7638 - val_loss: 0.7218\n",
            "Epoch 30/50\n",
            "\u001b[1m111/111\u001b[0m \u001b[32m━━━━━━━━━━━━━━━━━━━━\u001b[0m\u001b[37m\u001b[0m \u001b[1m1s\u001b[0m 4ms/step - accuracy: 0.7768 - loss: 0.6840 - val_accuracy: 0.7571 - val_loss: 0.7242\n",
            "Epoch 31/50\n",
            "\u001b[1m111/111\u001b[0m \u001b[32m━━━━━━━━━━━━━━━━━━━━\u001b[0m\u001b[37m\u001b[0m \u001b[1m1s\u001b[0m 5ms/step - accuracy: 0.7752 - loss: 0.6695 - val_accuracy: 0.7571 - val_loss: 0.7192\n",
            "Epoch 32/50\n",
            "\u001b[1m111/111\u001b[0m \u001b[32m━━━━━━━━━━━━━━━━━━━━\u001b[0m\u001b[37m\u001b[0m \u001b[1m1s\u001b[0m 4ms/step - accuracy: 0.7788 - loss: 0.6636 - val_accuracy: 0.7582 - val_loss: 0.7226\n",
            "Epoch 33/50\n",
            "\u001b[1m111/111\u001b[0m \u001b[32m━━━━━━━━━━━━━━━━━━━━\u001b[0m\u001b[37m\u001b[0m \u001b[1m1s\u001b[0m 5ms/step - accuracy: 0.7600 - loss: 0.6831 - val_accuracy: 0.7582 - val_loss: 0.7212\n",
            "Epoch 34/50\n",
            "\u001b[1m111/111\u001b[0m \u001b[32m━━━━━━━━━━━━━━━━━━━━\u001b[0m\u001b[37m\u001b[0m \u001b[1m0s\u001b[0m 4ms/step - accuracy: 0.7785 - loss: 0.6675 - val_accuracy: 0.7514 - val_loss: 0.7166\n",
            "Epoch 35/50\n",
            "\u001b[1m111/111\u001b[0m \u001b[32m━━━━━━━━━━━━━━━━━━━━\u001b[0m\u001b[37m\u001b[0m \u001b[1m1s\u001b[0m 5ms/step - accuracy: 0.7884 - loss: 0.6554 - val_accuracy: 0.7559 - val_loss: 0.7209\n",
            "Epoch 36/50\n",
            "\u001b[1m111/111\u001b[0m \u001b[32m━━━━━━━━━━━━━━━━━━━━\u001b[0m\u001b[37m\u001b[0m \u001b[1m1s\u001b[0m 8ms/step - accuracy: 0.7734 - loss: 0.6741 - val_accuracy: 0.7537 - val_loss: 0.7189\n",
            "Epoch 37/50\n",
            "\u001b[1m111/111\u001b[0m \u001b[32m━━━━━━━━━━━━━━━━━━━━\u001b[0m\u001b[37m\u001b[0m \u001b[1m1s\u001b[0m 5ms/step - accuracy: 0.7870 - loss: 0.6516 - val_accuracy: 0.7559 - val_loss: 0.7146\n",
            "Epoch 38/50\n",
            "\u001b[1m111/111\u001b[0m \u001b[32m━━━━━━━━━━━━━━━━━━━━\u001b[0m\u001b[37m\u001b[0m \u001b[1m1s\u001b[0m 3ms/step - accuracy: 0.7863 - loss: 0.6441 - val_accuracy: 0.7514 - val_loss: 0.7179\n",
            "Epoch 39/50\n",
            "\u001b[1m111/111\u001b[0m \u001b[32m━━━━━━━━━━━━━━━━━━━━\u001b[0m\u001b[37m\u001b[0m \u001b[1m1s\u001b[0m 4ms/step - accuracy: 0.7777 - loss: 0.6533 - val_accuracy: 0.7537 - val_loss: 0.7214\n",
            "Epoch 40/50\n",
            "\u001b[1m111/111\u001b[0m \u001b[32m━━━━━━━━━━━━━━━━━━━━\u001b[0m\u001b[37m\u001b[0m \u001b[1m0s\u001b[0m 4ms/step - accuracy: 0.7838 - loss: 0.6593 - val_accuracy: 0.7582 - val_loss: 0.7151\n",
            "Epoch 41/50\n",
            "\u001b[1m111/111\u001b[0m \u001b[32m━━━━━━━━━━━━━━━━━━━━\u001b[0m\u001b[37m\u001b[0m \u001b[1m0s\u001b[0m 3ms/step - accuracy: 0.7911 - loss: 0.6530 - val_accuracy: 0.7548 - val_loss: 0.7135\n",
            "Epoch 42/50\n",
            "\u001b[1m111/111\u001b[0m \u001b[32m━━━━━━━━━━━━━━━━━━━━\u001b[0m\u001b[37m\u001b[0m \u001b[1m1s\u001b[0m 4ms/step - accuracy: 0.7863 - loss: 0.6548 - val_accuracy: 0.7525 - val_loss: 0.7130\n",
            "Epoch 43/50\n",
            "\u001b[1m111/111\u001b[0m \u001b[32m━━━━━━━━━━━━━━━━━━━━\u001b[0m\u001b[37m\u001b[0m \u001b[1m1s\u001b[0m 5ms/step - accuracy: 0.7823 - loss: 0.6660 - val_accuracy: 0.7571 - val_loss: 0.7140\n",
            "Epoch 44/50\n",
            "\u001b[1m111/111\u001b[0m \u001b[32m━━━━━━━━━━━━━━━━━━━━\u001b[0m\u001b[37m\u001b[0m \u001b[1m0s\u001b[0m 4ms/step - accuracy: 0.7823 - loss: 0.6566 - val_accuracy: 0.7525 - val_loss: 0.7133\n",
            "Epoch 45/50\n",
            "\u001b[1m111/111\u001b[0m \u001b[32m━━━━━━━━━━━━━━━━━━━━\u001b[0m\u001b[37m\u001b[0m \u001b[1m1s\u001b[0m 4ms/step - accuracy: 0.7735 - loss: 0.6637 - val_accuracy: 0.7503 - val_loss: 0.7123\n",
            "Epoch 46/50\n",
            "\u001b[1m111/111\u001b[0m \u001b[32m━━━━━━━━━━━━━━━━━━━━\u001b[0m\u001b[37m\u001b[0m \u001b[1m1s\u001b[0m 4ms/step - accuracy: 0.7892 - loss: 0.6581 - val_accuracy: 0.7525 - val_loss: 0.7156\n",
            "Epoch 47/50\n",
            "\u001b[1m111/111\u001b[0m \u001b[32m━━━━━━━━━━━━━━━━━━━━\u001b[0m\u001b[37m\u001b[0m \u001b[1m1s\u001b[0m 4ms/step - accuracy: 0.7772 - loss: 0.6708 - val_accuracy: 0.7537 - val_loss: 0.7111\n",
            "Epoch 48/50\n",
            "\u001b[1m111/111\u001b[0m \u001b[32m━━━━━━━━━━━━━━━━━━━━\u001b[0m\u001b[37m\u001b[0m \u001b[1m1s\u001b[0m 5ms/step - accuracy: 0.7797 - loss: 0.6652 - val_accuracy: 0.7537 - val_loss: 0.7097\n",
            "Epoch 49/50\n",
            "\u001b[1m111/111\u001b[0m \u001b[32m━━━━━━━━━━━━━━━━━━━━\u001b[0m\u001b[37m\u001b[0m \u001b[1m0s\u001b[0m 3ms/step - accuracy: 0.7842 - loss: 0.6455 - val_accuracy: 0.7605 - val_loss: 0.7072\n",
            "Epoch 50/50\n",
            "\u001b[1m111/111\u001b[0m \u001b[32m━━━━━━━━━━━━━━━━━━━━\u001b[0m\u001b[37m\u001b[0m \u001b[1m1s\u001b[0m 4ms/step - accuracy: 0.7837 - loss: 0.6408 - val_accuracy: 0.7537 - val_loss: 0.7094\n",
            "\n",
            "🔧 Training with L2 Regularisation...\n",
            "Epoch 1/50\n"
          ]
        },
        {
          "output_type": "stream",
          "name": "stderr",
          "text": [
            "/usr/local/lib/python3.11/dist-packages/keras/src/layers/core/dense.py:87: UserWarning: Do not pass an `input_shape`/`input_dim` argument to a layer. When using Sequential models, prefer using an `Input(shape)` object as the first layer in the model instead.\n",
            "  super().__init__(activity_regularizer=activity_regularizer, **kwargs)\n"
          ]
        },
        {
          "output_type": "stream",
          "name": "stdout",
          "text": [
            "\u001b[1m111/111\u001b[0m \u001b[32m━━━━━━━━━━━━━━━━━━━━\u001b[0m\u001b[37m\u001b[0m \u001b[1m2s\u001b[0m 6ms/step - accuracy: 0.6520 - loss: 1.9007 - val_accuracy: 0.7514 - val_loss: 1.0681\n",
            "Epoch 2/50\n",
            "\u001b[1m111/111\u001b[0m \u001b[32m━━━━━━━━━━━━━━━━━━━━\u001b[0m\u001b[37m\u001b[0m \u001b[1m1s\u001b[0m 6ms/step - accuracy: 0.7610 - loss: 0.9584 - val_accuracy: 0.7638 - val_loss: 0.8446\n",
            "Epoch 3/50\n",
            "\u001b[1m111/111\u001b[0m \u001b[32m━━━━━━━━━━━━━━━━━━━━\u001b[0m\u001b[37m\u001b[0m \u001b[1m1s\u001b[0m 7ms/step - accuracy: 0.7748 - loss: 0.7890 - val_accuracy: 0.7627 - val_loss: 0.7676\n",
            "Epoch 4/50\n",
            "\u001b[1m111/111\u001b[0m \u001b[32m━━━━━━━━━━━━━━━━━━━━\u001b[0m\u001b[37m\u001b[0m \u001b[1m1s\u001b[0m 4ms/step - accuracy: 0.7909 - loss: 0.7069 - val_accuracy: 0.7492 - val_loss: 0.7545\n",
            "Epoch 5/50\n",
            "\u001b[1m111/111\u001b[0m \u001b[32m━━━━━━━━━━━━━━━━━━━━\u001b[0m\u001b[37m\u001b[0m \u001b[1m1s\u001b[0m 4ms/step - accuracy: 0.7834 - loss: 0.6767 - val_accuracy: 0.7582 - val_loss: 0.7096\n",
            "Epoch 6/50\n",
            "\u001b[1m111/111\u001b[0m \u001b[32m━━━━━━━━━━━━━━━━━━━━\u001b[0m\u001b[37m\u001b[0m \u001b[1m0s\u001b[0m 4ms/step - accuracy: 0.7987 - loss: 0.6425 - val_accuracy: 0.7684 - val_loss: 0.6890\n",
            "Epoch 7/50\n",
            "\u001b[1m111/111\u001b[0m \u001b[32m━━━━━━━━━━━━━━━━━━━━\u001b[0m\u001b[37m\u001b[0m \u001b[1m1s\u001b[0m 5ms/step - accuracy: 0.7799 - loss: 0.6504 - val_accuracy: 0.7706 - val_loss: 0.6714\n",
            "Epoch 8/50\n",
            "\u001b[1m111/111\u001b[0m \u001b[32m━━━━━━━━━━━━━━━━━━━━\u001b[0m\u001b[37m\u001b[0m \u001b[1m1s\u001b[0m 4ms/step - accuracy: 0.8050 - loss: 0.6067 - val_accuracy: 0.7638 - val_loss: 0.6728\n",
            "Epoch 9/50\n",
            "\u001b[1m111/111\u001b[0m \u001b[32m━━━━━━━━━━━━━━━━━━━━\u001b[0m\u001b[37m\u001b[0m \u001b[1m1s\u001b[0m 4ms/step - accuracy: 0.7962 - loss: 0.6155 - val_accuracy: 0.7672 - val_loss: 0.6674\n",
            "Epoch 10/50\n",
            "\u001b[1m111/111\u001b[0m \u001b[32m━━━━━━━━━━━━━━━━━━━━\u001b[0m\u001b[37m\u001b[0m \u001b[1m1s\u001b[0m 4ms/step - accuracy: 0.7986 - loss: 0.5993 - val_accuracy: 0.7797 - val_loss: 0.6496\n",
            "Epoch 11/50\n",
            "\u001b[1m111/111\u001b[0m \u001b[32m━━━━━━━━━━━━━━━━━━━━\u001b[0m\u001b[37m\u001b[0m \u001b[1m0s\u001b[0m 4ms/step - accuracy: 0.7908 - loss: 0.6046 - val_accuracy: 0.7661 - val_loss: 0.6640\n",
            "Epoch 12/50\n",
            "\u001b[1m111/111\u001b[0m \u001b[32m━━━━━━━━━━━━━━━━━━━━\u001b[0m\u001b[37m\u001b[0m \u001b[1m1s\u001b[0m 5ms/step - accuracy: 0.7999 - loss: 0.5801 - val_accuracy: 0.7661 - val_loss: 0.6525\n",
            "Epoch 13/50\n",
            "\u001b[1m111/111\u001b[0m \u001b[32m━━━━━━━━━━━━━━━━━━━━\u001b[0m\u001b[37m\u001b[0m \u001b[1m0s\u001b[0m 4ms/step - accuracy: 0.7991 - loss: 0.5912 - val_accuracy: 0.7582 - val_loss: 0.6759\n",
            "Epoch 14/50\n",
            "\u001b[1m111/111\u001b[0m \u001b[32m━━━━━━━━━━━━━━━━━━━━\u001b[0m\u001b[37m\u001b[0m \u001b[1m1s\u001b[0m 3ms/step - accuracy: 0.8126 - loss: 0.5671 - val_accuracy: 0.7525 - val_loss: 0.6790\n",
            "Epoch 15/50\n",
            "\u001b[1m111/111\u001b[0m \u001b[32m━━━━━━━━━━━━━━━━━━━━\u001b[0m\u001b[37m\u001b[0m \u001b[1m0s\u001b[0m 4ms/step - accuracy: 0.8066 - loss: 0.5610 - val_accuracy: 0.7605 - val_loss: 0.6610\n",
            "Epoch 16/50\n",
            "\u001b[1m111/111\u001b[0m \u001b[32m━━━━━━━━━━━━━━━━━━━━\u001b[0m\u001b[37m\u001b[0m \u001b[1m1s\u001b[0m 3ms/step - accuracy: 0.8032 - loss: 0.5776 - val_accuracy: 0.7740 - val_loss: 0.6394\n",
            "Epoch 17/50\n",
            "\u001b[1m111/111\u001b[0m \u001b[32m━━━━━━━━━━━━━━━━━━━━\u001b[0m\u001b[37m\u001b[0m \u001b[1m1s\u001b[0m 4ms/step - accuracy: 0.8141 - loss: 0.5742 - val_accuracy: 0.7661 - val_loss: 0.6450\n",
            "Epoch 18/50\n",
            "\u001b[1m111/111\u001b[0m \u001b[32m━━━━━━━━━━━━━━━━━━━━\u001b[0m\u001b[37m\u001b[0m \u001b[1m0s\u001b[0m 4ms/step - accuracy: 0.7968 - loss: 0.5793 - val_accuracy: 0.7695 - val_loss: 0.6340\n",
            "Epoch 19/50\n",
            "\u001b[1m111/111\u001b[0m \u001b[32m━━━━━━━━━━━━━━━━━━━━\u001b[0m\u001b[37m\u001b[0m \u001b[1m1s\u001b[0m 4ms/step - accuracy: 0.8026 - loss: 0.5724 - val_accuracy: 0.7695 - val_loss: 0.6430\n",
            "Epoch 20/50\n",
            "\u001b[1m111/111\u001b[0m \u001b[32m━━━━━━━━━━━━━━━━━━━━\u001b[0m\u001b[37m\u001b[0m \u001b[1m0s\u001b[0m 4ms/step - accuracy: 0.8016 - loss: 0.5766 - val_accuracy: 0.7684 - val_loss: 0.6383\n",
            "Epoch 21/50\n",
            "\u001b[1m111/111\u001b[0m \u001b[32m━━━━━━━━━━━━━━━━━━━━\u001b[0m\u001b[37m\u001b[0m \u001b[1m1s\u001b[0m 6ms/step - accuracy: 0.8047 - loss: 0.5689 - val_accuracy: 0.7672 - val_loss: 0.6431\n",
            "Epoch 22/50\n",
            "\u001b[1m111/111\u001b[0m \u001b[32m━━━━━━━━━━━━━━━━━━━━\u001b[0m\u001b[37m\u001b[0m \u001b[1m1s\u001b[0m 6ms/step - accuracy: 0.8019 - loss: 0.5755 - val_accuracy: 0.7718 - val_loss: 0.6382\n",
            "Epoch 23/50\n",
            "\u001b[1m111/111\u001b[0m \u001b[32m━━━━━━━━━━━━━━━━━━━━\u001b[0m\u001b[37m\u001b[0m \u001b[1m1s\u001b[0m 5ms/step - accuracy: 0.8047 - loss: 0.5611 - val_accuracy: 0.7718 - val_loss: 0.6386\n",
            "Epoch 24/50\n",
            "\u001b[1m111/111\u001b[0m \u001b[32m━━━━━━━━━━━━━━━━━━━━\u001b[0m\u001b[37m\u001b[0m \u001b[1m0s\u001b[0m 3ms/step - accuracy: 0.8015 - loss: 0.5751 - val_accuracy: 0.7650 - val_loss: 0.6497\n",
            "Epoch 25/50\n",
            "\u001b[1m111/111\u001b[0m \u001b[32m━━━━━━━━━━━━━━━━━━━━\u001b[0m\u001b[37m\u001b[0m \u001b[1m1s\u001b[0m 4ms/step - accuracy: 0.8199 - loss: 0.5394 - val_accuracy: 0.7582 - val_loss: 0.6502\n",
            "Epoch 26/50\n",
            "\u001b[1m111/111\u001b[0m \u001b[32m━━━━━━━━━━━━━━━━━━━━\u001b[0m\u001b[37m\u001b[0m \u001b[1m0s\u001b[0m 3ms/step - accuracy: 0.8184 - loss: 0.5446 - val_accuracy: 0.7616 - val_loss: 0.6430\n",
            "Epoch 27/50\n",
            "\u001b[1m111/111\u001b[0m \u001b[32m━━━━━━━━━━━━━━━━━━━━\u001b[0m\u001b[37m\u001b[0m \u001b[1m0s\u001b[0m 3ms/step - accuracy: 0.8038 - loss: 0.5635 - val_accuracy: 0.7729 - val_loss: 0.6433\n",
            "Epoch 28/50\n",
            "\u001b[1m111/111\u001b[0m \u001b[32m━━━━━━━━━━━━━━━━━━━━\u001b[0m\u001b[37m\u001b[0m \u001b[1m1s\u001b[0m 4ms/step - accuracy: 0.8151 - loss: 0.5571 - val_accuracy: 0.7751 - val_loss: 0.6345\n",
            "Epoch 29/50\n",
            "\u001b[1m111/111\u001b[0m \u001b[32m━━━━━━━━━━━━━━━━━━━━\u001b[0m\u001b[37m\u001b[0m \u001b[1m1s\u001b[0m 3ms/step - accuracy: 0.8036 - loss: 0.5688 - val_accuracy: 0.7729 - val_loss: 0.6384\n",
            "Epoch 30/50\n",
            "\u001b[1m111/111\u001b[0m \u001b[32m━━━━━━━━━━━━━━━━━━━━\u001b[0m\u001b[37m\u001b[0m \u001b[1m1s\u001b[0m 4ms/step - accuracy: 0.8206 - loss: 0.5328 - val_accuracy: 0.7672 - val_loss: 0.6360\n",
            "Epoch 31/50\n",
            "\u001b[1m111/111\u001b[0m \u001b[32m━━━━━━━━━━━━━━━━━━━━\u001b[0m\u001b[37m\u001b[0m \u001b[1m1s\u001b[0m 3ms/step - accuracy: 0.8231 - loss: 0.5351 - val_accuracy: 0.7740 - val_loss: 0.6389\n",
            "Epoch 32/50\n",
            "\u001b[1m111/111\u001b[0m \u001b[32m━━━━━━━━━━━━━━━━━━━━\u001b[0m\u001b[37m\u001b[0m \u001b[1m1s\u001b[0m 4ms/step - accuracy: 0.8197 - loss: 0.5370 - val_accuracy: 0.7684 - val_loss: 0.6512\n",
            "Epoch 33/50\n",
            "\u001b[1m111/111\u001b[0m \u001b[32m━━━━━━━━━━━━━━━━━━━━\u001b[0m\u001b[37m\u001b[0m \u001b[1m0s\u001b[0m 3ms/step - accuracy: 0.8184 - loss: 0.5357 - val_accuracy: 0.7514 - val_loss: 0.6817\n",
            "Epoch 34/50\n",
            "\u001b[1m111/111\u001b[0m \u001b[32m━━━━━━━━━━━━━━━━━━━━\u001b[0m\u001b[37m\u001b[0m \u001b[1m1s\u001b[0m 4ms/step - accuracy: 0.8063 - loss: 0.5608 - val_accuracy: 0.7706 - val_loss: 0.6434\n",
            "Epoch 35/50\n",
            "\u001b[1m111/111\u001b[0m \u001b[32m━━━━━━━━━━━━━━━━━━━━\u001b[0m\u001b[37m\u001b[0m \u001b[1m1s\u001b[0m 4ms/step - accuracy: 0.8161 - loss: 0.5384 - val_accuracy: 0.7729 - val_loss: 0.6395\n",
            "Epoch 36/50\n",
            "\u001b[1m111/111\u001b[0m \u001b[32m━━━━━━━━━━━━━━━━━━━━\u001b[0m\u001b[37m\u001b[0m \u001b[1m1s\u001b[0m 3ms/step - accuracy: 0.8244 - loss: 0.5249 - val_accuracy: 0.7718 - val_loss: 0.6509\n",
            "Epoch 37/50\n",
            "\u001b[1m111/111\u001b[0m \u001b[32m━━━━━━━━━━━━━━━━━━━━\u001b[0m\u001b[37m\u001b[0m \u001b[1m0s\u001b[0m 3ms/step - accuracy: 0.8247 - loss: 0.5259 - val_accuracy: 0.7650 - val_loss: 0.6453\n",
            "Epoch 38/50\n",
            "\u001b[1m111/111\u001b[0m \u001b[32m━━━━━━━━━━━━━━━━━━━━\u001b[0m\u001b[37m\u001b[0m \u001b[1m1s\u001b[0m 3ms/step - accuracy: 0.8311 - loss: 0.5157 - val_accuracy: 0.7695 - val_loss: 0.6516\n",
            "Epoch 39/50\n",
            "\u001b[1m111/111\u001b[0m \u001b[32m━━━━━━━━━━━━━━━━━━━━\u001b[0m\u001b[37m\u001b[0m \u001b[1m1s\u001b[0m 5ms/step - accuracy: 0.8183 - loss: 0.5240 - val_accuracy: 0.7650 - val_loss: 0.6545\n",
            "Epoch 40/50\n",
            "\u001b[1m111/111\u001b[0m \u001b[32m━━━━━━━━━━━━━━━━━━━━\u001b[0m\u001b[37m\u001b[0m \u001b[1m1s\u001b[0m 5ms/step - accuracy: 0.8235 - loss: 0.5414 - val_accuracy: 0.7718 - val_loss: 0.6485\n",
            "Epoch 41/50\n",
            "\u001b[1m111/111\u001b[0m \u001b[32m━━━━━━━━━━━━━━━━━━━━\u001b[0m\u001b[37m\u001b[0m \u001b[1m1s\u001b[0m 8ms/step - accuracy: 0.8309 - loss: 0.5319 - val_accuracy: 0.7672 - val_loss: 0.6622\n",
            "Epoch 42/50\n",
            "\u001b[1m111/111\u001b[0m \u001b[32m━━━━━━━━━━━━━━━━━━━━\u001b[0m\u001b[37m\u001b[0m \u001b[1m1s\u001b[0m 6ms/step - accuracy: 0.8211 - loss: 0.5216 - val_accuracy: 0.7797 - val_loss: 0.6538\n",
            "Epoch 43/50\n",
            "\u001b[1m111/111\u001b[0m \u001b[32m━━━━━━━━━━━━━━━━━━━━\u001b[0m\u001b[37m\u001b[0m \u001b[1m1s\u001b[0m 4ms/step - accuracy: 0.8280 - loss: 0.5174 - val_accuracy: 0.7616 - val_loss: 0.6638\n",
            "Epoch 44/50\n",
            "\u001b[1m111/111\u001b[0m \u001b[32m━━━━━━━━━━━━━━━━━━━━\u001b[0m\u001b[37m\u001b[0m \u001b[1m1s\u001b[0m 4ms/step - accuracy: 0.8356 - loss: 0.5193 - val_accuracy: 0.7785 - val_loss: 0.6523\n",
            "Epoch 45/50\n",
            "\u001b[1m111/111\u001b[0m \u001b[32m━━━━━━━━━━━━━━━━━━━━\u001b[0m\u001b[37m\u001b[0m \u001b[1m0s\u001b[0m 4ms/step - accuracy: 0.8331 - loss: 0.5147 - val_accuracy: 0.7627 - val_loss: 0.6659\n",
            "Epoch 46/50\n",
            "\u001b[1m111/111\u001b[0m \u001b[32m━━━━━━━━━━━━━━━━━━━━\u001b[0m\u001b[37m\u001b[0m \u001b[1m1s\u001b[0m 3ms/step - accuracy: 0.8365 - loss: 0.5026 - val_accuracy: 0.7695 - val_loss: 0.6547\n",
            "Epoch 47/50\n",
            "\u001b[1m111/111\u001b[0m \u001b[32m━━━━━━━━━━━━━━━━━━━━\u001b[0m\u001b[37m\u001b[0m \u001b[1m1s\u001b[0m 4ms/step - accuracy: 0.8399 - loss: 0.5040 - val_accuracy: 0.7684 - val_loss: 0.6601\n",
            "Epoch 48/50\n",
            "\u001b[1m111/111\u001b[0m \u001b[32m━━━━━━━━━━━━━━━━━━━━\u001b[0m\u001b[37m\u001b[0m \u001b[1m1s\u001b[0m 3ms/step - accuracy: 0.8311 - loss: 0.5249 - val_accuracy: 0.7684 - val_loss: 0.6707\n",
            "Epoch 49/50\n",
            "\u001b[1m111/111\u001b[0m \u001b[32m━━━━━━━━━━━━━━━━━━━━\u001b[0m\u001b[37m\u001b[0m \u001b[1m1s\u001b[0m 3ms/step - accuracy: 0.8361 - loss: 0.5110 - val_accuracy: 0.7650 - val_loss: 0.6766\n",
            "Epoch 50/50\n",
            "\u001b[1m111/111\u001b[0m \u001b[32m━━━━━━━━━━━━━━━━━━━━\u001b[0m\u001b[37m\u001b[0m \u001b[1m1s\u001b[0m 4ms/step - accuracy: 0.8370 - loss: 0.5050 - val_accuracy: 0.7740 - val_loss: 0.6676\n",
            "\n",
            "🔧 Training with Dropout Regularisation...\n"
          ]
        },
        {
          "output_type": "stream",
          "name": "stderr",
          "text": [
            "/usr/local/lib/python3.11/dist-packages/keras/src/layers/core/dense.py:87: UserWarning: Do not pass an `input_shape`/`input_dim` argument to a layer. When using Sequential models, prefer using an `Input(shape)` object as the first layer in the model instead.\n",
            "  super().__init__(activity_regularizer=activity_regularizer, **kwargs)\n"
          ]
        },
        {
          "output_type": "stream",
          "name": "stdout",
          "text": [
            "Epoch 1/50\n",
            "\u001b[1m111/111\u001b[0m \u001b[32m━━━━━━━━━━━━━━━━━━━━\u001b[0m\u001b[37m\u001b[0m \u001b[1m2s\u001b[0m 6ms/step - accuracy: 0.4968 - loss: 1.0203 - val_accuracy: 0.7141 - val_loss: 0.7185\n",
            "Epoch 2/50\n",
            "\u001b[1m111/111\u001b[0m \u001b[32m━━━━━━━━━━━━━━━━━━━━\u001b[0m\u001b[37m\u001b[0m \u001b[1m1s\u001b[0m 4ms/step - accuracy: 0.6990 - loss: 0.7481 - val_accuracy: 0.7367 - val_loss: 0.6399\n",
            "Epoch 3/50\n",
            "\u001b[1m111/111\u001b[0m \u001b[32m━━━━━━━━━━━━━━━━━━━━\u001b[0m\u001b[37m\u001b[0m \u001b[1m1s\u001b[0m 6ms/step - accuracy: 0.7286 - loss: 0.6717 - val_accuracy: 0.7582 - val_loss: 0.6202\n",
            "Epoch 4/50\n",
            "\u001b[1m111/111\u001b[0m \u001b[32m━━━━━━━━━━━━━━━━━━━━\u001b[0m\u001b[37m\u001b[0m \u001b[1m1s\u001b[0m 7ms/step - accuracy: 0.7374 - loss: 0.6579 - val_accuracy: 0.7593 - val_loss: 0.6053\n",
            "Epoch 5/50\n",
            "\u001b[1m111/111\u001b[0m \u001b[32m━━━━━━━━━━━━━━━━━━━━\u001b[0m\u001b[37m\u001b[0m \u001b[1m1s\u001b[0m 8ms/step - accuracy: 0.7391 - loss: 0.6182 - val_accuracy: 0.7638 - val_loss: 0.5939\n",
            "Epoch 6/50\n",
            "\u001b[1m111/111\u001b[0m \u001b[32m━━━━━━━━━━━━━━━━━━━━\u001b[0m\u001b[37m\u001b[0m \u001b[1m1s\u001b[0m 4ms/step - accuracy: 0.7559 - loss: 0.6068 - val_accuracy: 0.7616 - val_loss: 0.5907\n",
            "Epoch 7/50\n",
            "\u001b[1m111/111\u001b[0m \u001b[32m━━━━━━━━━━━━━━━━━━━━\u001b[0m\u001b[37m\u001b[0m \u001b[1m1s\u001b[0m 5ms/step - accuracy: 0.7795 - loss: 0.5744 - val_accuracy: 0.7627 - val_loss: 0.5901\n",
            "Epoch 8/50\n",
            "\u001b[1m111/111\u001b[0m \u001b[32m━━━━━━━━━━━━━━━━━━━━\u001b[0m\u001b[37m\u001b[0m \u001b[1m1s\u001b[0m 5ms/step - accuracy: 0.7937 - loss: 0.5410 - val_accuracy: 0.7605 - val_loss: 0.5910\n",
            "Epoch 9/50\n",
            "\u001b[1m111/111\u001b[0m \u001b[32m━━━━━━━━━━━━━━━━━━━━\u001b[0m\u001b[37m\u001b[0m \u001b[1m1s\u001b[0m 5ms/step - accuracy: 0.7774 - loss: 0.5540 - val_accuracy: 0.7605 - val_loss: 0.5905\n",
            "Epoch 10/50\n",
            "\u001b[1m111/111\u001b[0m \u001b[32m━━━━━━━━━━━━━━━━━━━━\u001b[0m\u001b[37m\u001b[0m \u001b[1m1s\u001b[0m 4ms/step - accuracy: 0.7823 - loss: 0.5542 - val_accuracy: 0.7548 - val_loss: 0.6027\n",
            "Epoch 11/50\n",
            "\u001b[1m111/111\u001b[0m \u001b[32m━━━━━━━━━━━━━━━━━━━━\u001b[0m\u001b[37m\u001b[0m \u001b[1m1s\u001b[0m 4ms/step - accuracy: 0.7957 - loss: 0.5113 - val_accuracy: 0.7571 - val_loss: 0.5970\n",
            "Epoch 12/50\n",
            "\u001b[1m111/111\u001b[0m \u001b[32m━━━━━━━━━━━━━━━━━━━━\u001b[0m\u001b[37m\u001b[0m \u001b[1m1s\u001b[0m 4ms/step - accuracy: 0.7926 - loss: 0.5298 - val_accuracy: 0.7492 - val_loss: 0.5980\n",
            "Epoch 13/50\n",
            "\u001b[1m111/111\u001b[0m \u001b[32m━━━━━━━━━━━━━━━━━━━━\u001b[0m\u001b[37m\u001b[0m \u001b[1m1s\u001b[0m 4ms/step - accuracy: 0.8065 - loss: 0.5018 - val_accuracy: 0.7638 - val_loss: 0.5983\n",
            "Epoch 14/50\n",
            "\u001b[1m111/111\u001b[0m \u001b[32m━━━━━━━━━━━━━━━━━━━━\u001b[0m\u001b[37m\u001b[0m \u001b[1m0s\u001b[0m 4ms/step - accuracy: 0.8067 - loss: 0.4903 - val_accuracy: 0.7559 - val_loss: 0.6054\n",
            "Epoch 15/50\n",
            "\u001b[1m111/111\u001b[0m \u001b[32m━━━━━━━━━━━━━━━━━━━━\u001b[0m\u001b[37m\u001b[0m \u001b[1m1s\u001b[0m 4ms/step - accuracy: 0.8185 - loss: 0.4619 - val_accuracy: 0.7638 - val_loss: 0.6056\n",
            "Epoch 16/50\n",
            "\u001b[1m111/111\u001b[0m \u001b[32m━━━━━━━━━━━━━━━━━━━━\u001b[0m\u001b[37m\u001b[0m \u001b[1m1s\u001b[0m 4ms/step - accuracy: 0.8184 - loss: 0.4732 - val_accuracy: 0.7684 - val_loss: 0.6103\n",
            "Epoch 17/50\n",
            "\u001b[1m111/111\u001b[0m \u001b[32m━━━━━━━━━━━━━━━━━━━━\u001b[0m\u001b[37m\u001b[0m \u001b[1m1s\u001b[0m 4ms/step - accuracy: 0.8197 - loss: 0.4661 - val_accuracy: 0.7661 - val_loss: 0.6243\n",
            "Epoch 18/50\n",
            "\u001b[1m111/111\u001b[0m \u001b[32m━━━━━━━━━━━━━━━━━━━━\u001b[0m\u001b[37m\u001b[0m \u001b[1m1s\u001b[0m 4ms/step - accuracy: 0.8192 - loss: 0.4682 - val_accuracy: 0.7571 - val_loss: 0.6124\n",
            "Epoch 19/50\n",
            "\u001b[1m111/111\u001b[0m \u001b[32m━━━━━━━━━━━━━━━━━━━━\u001b[0m\u001b[37m\u001b[0m \u001b[1m0s\u001b[0m 3ms/step - accuracy: 0.8252 - loss: 0.4627 - val_accuracy: 0.7480 - val_loss: 0.6249\n",
            "Epoch 20/50\n",
            "\u001b[1m111/111\u001b[0m \u001b[32m━━━━━━━━━━━━━━━━━━━━\u001b[0m\u001b[37m\u001b[0m \u001b[1m1s\u001b[0m 4ms/step - accuracy: 0.8333 - loss: 0.4454 - val_accuracy: 0.7582 - val_loss: 0.6384\n",
            "Epoch 21/50\n",
            "\u001b[1m111/111\u001b[0m \u001b[32m━━━━━━━━━━━━━━━━━━━━\u001b[0m\u001b[37m\u001b[0m \u001b[1m0s\u001b[0m 4ms/step - accuracy: 0.8313 - loss: 0.4530 - val_accuracy: 0.7627 - val_loss: 0.6228\n",
            "Epoch 22/50\n",
            "\u001b[1m111/111\u001b[0m \u001b[32m━━━━━━━━━━━━━━━━━━━━\u001b[0m\u001b[37m\u001b[0m \u001b[1m1s\u001b[0m 5ms/step - accuracy: 0.8371 - loss: 0.4202 - val_accuracy: 0.7616 - val_loss: 0.6327\n",
            "Epoch 23/50\n",
            "\u001b[1m111/111\u001b[0m \u001b[32m━━━━━━━━━━━━━━━━━━━━\u001b[0m\u001b[37m\u001b[0m \u001b[1m1s\u001b[0m 7ms/step - accuracy: 0.8474 - loss: 0.4069 - val_accuracy: 0.7616 - val_loss: 0.6369\n",
            "Epoch 24/50\n",
            "\u001b[1m111/111\u001b[0m \u001b[32m━━━━━━━━━━━━━━━━━━━━\u001b[0m\u001b[37m\u001b[0m \u001b[1m1s\u001b[0m 6ms/step - accuracy: 0.8411 - loss: 0.4170 - val_accuracy: 0.7627 - val_loss: 0.6475\n",
            "Epoch 25/50\n",
            "\u001b[1m111/111\u001b[0m \u001b[32m━━━━━━━━━━━━━━━━━━━━\u001b[0m\u001b[37m\u001b[0m \u001b[1m1s\u001b[0m 3ms/step - accuracy: 0.8359 - loss: 0.4214 - val_accuracy: 0.7672 - val_loss: 0.6479\n",
            "Epoch 26/50\n",
            "\u001b[1m111/111\u001b[0m \u001b[32m━━━━━━━━━━━━━━━━━━━━\u001b[0m\u001b[37m\u001b[0m \u001b[1m1s\u001b[0m 4ms/step - accuracy: 0.8383 - loss: 0.4264 - val_accuracy: 0.7593 - val_loss: 0.6627\n",
            "Epoch 27/50\n",
            "\u001b[1m111/111\u001b[0m \u001b[32m━━━━━━━━━━━━━━━━━━━━\u001b[0m\u001b[37m\u001b[0m \u001b[1m1s\u001b[0m 4ms/step - accuracy: 0.8568 - loss: 0.3725 - val_accuracy: 0.7695 - val_loss: 0.6550\n",
            "Epoch 28/50\n",
            "\u001b[1m111/111\u001b[0m \u001b[32m━━━━━━━━━━━━━━━━━━━━\u001b[0m\u001b[37m\u001b[0m \u001b[1m1s\u001b[0m 4ms/step - accuracy: 0.8428 - loss: 0.4004 - val_accuracy: 0.7605 - val_loss: 0.6756\n",
            "Epoch 29/50\n",
            "\u001b[1m111/111\u001b[0m \u001b[32m━━━━━━━━━━━━━━━━━━━━\u001b[0m\u001b[37m\u001b[0m \u001b[1m1s\u001b[0m 5ms/step - accuracy: 0.8594 - loss: 0.3761 - val_accuracy: 0.7605 - val_loss: 0.6606\n",
            "Epoch 30/50\n",
            "\u001b[1m111/111\u001b[0m \u001b[32m━━━━━━━━━━━━━━━━━━━━\u001b[0m\u001b[37m\u001b[0m \u001b[1m0s\u001b[0m 4ms/step - accuracy: 0.8499 - loss: 0.3945 - val_accuracy: 0.7514 - val_loss: 0.6912\n",
            "Epoch 31/50\n",
            "\u001b[1m111/111\u001b[0m \u001b[32m━━━━━━━━━━━━━━━━━━━━\u001b[0m\u001b[37m\u001b[0m \u001b[1m1s\u001b[0m 5ms/step - accuracy: 0.8596 - loss: 0.3650 - val_accuracy: 0.7627 - val_loss: 0.6910\n",
            "Epoch 32/50\n",
            "\u001b[1m111/111\u001b[0m \u001b[32m━━━━━━━━━━━━━━━━━━━━\u001b[0m\u001b[37m\u001b[0m \u001b[1m0s\u001b[0m 4ms/step - accuracy: 0.8617 - loss: 0.3708 - val_accuracy: 0.7740 - val_loss: 0.6847\n",
            "Epoch 33/50\n",
            "\u001b[1m111/111\u001b[0m \u001b[32m━━━━━━━━━━━━━━━━━━━━\u001b[0m\u001b[37m\u001b[0m \u001b[1m1s\u001b[0m 4ms/step - accuracy: 0.8462 - loss: 0.3811 - val_accuracy: 0.7650 - val_loss: 0.7061\n",
            "Epoch 34/50\n",
            "\u001b[1m111/111\u001b[0m \u001b[32m━━━━━━━━━━━━━━━━━━━━\u001b[0m\u001b[37m\u001b[0m \u001b[1m1s\u001b[0m 4ms/step - accuracy: 0.8607 - loss: 0.3784 - val_accuracy: 0.7593 - val_loss: 0.7283\n",
            "Epoch 35/50\n",
            "\u001b[1m111/111\u001b[0m \u001b[32m━━━━━━━━━━━━━━━━━━━━\u001b[0m\u001b[37m\u001b[0m \u001b[1m1s\u001b[0m 4ms/step - accuracy: 0.8581 - loss: 0.3517 - val_accuracy: 0.7627 - val_loss: 0.7332\n",
            "Epoch 36/50\n",
            "\u001b[1m111/111\u001b[0m \u001b[32m━━━━━━━━━━━━━━━━━━━━\u001b[0m\u001b[37m\u001b[0m \u001b[1m1s\u001b[0m 5ms/step - accuracy: 0.8777 - loss: 0.3528 - val_accuracy: 0.7684 - val_loss: 0.7385\n",
            "Epoch 37/50\n",
            "\u001b[1m111/111\u001b[0m \u001b[32m━━━━━━━━━━━━━━━━━━━━\u001b[0m\u001b[37m\u001b[0m \u001b[1m0s\u001b[0m 4ms/step - accuracy: 0.8723 - loss: 0.3438 - val_accuracy: 0.7684 - val_loss: 0.7304\n",
            "Epoch 38/50\n",
            "\u001b[1m111/111\u001b[0m \u001b[32m━━━━━━━━━━━━━━━━━━━━\u001b[0m\u001b[37m\u001b[0m \u001b[1m0s\u001b[0m 4ms/step - accuracy: 0.8748 - loss: 0.3293 - val_accuracy: 0.7582 - val_loss: 0.7571\n",
            "Epoch 39/50\n",
            "\u001b[1m111/111\u001b[0m \u001b[32m━━━━━━━━━━━━━━━━━━━━\u001b[0m\u001b[37m\u001b[0m \u001b[1m0s\u001b[0m 4ms/step - accuracy: 0.8739 - loss: 0.3217 - val_accuracy: 0.7729 - val_loss: 0.7626\n",
            "Epoch 40/50\n",
            "\u001b[1m111/111\u001b[0m \u001b[32m━━━━━━━━━━━━━━━━━━━━\u001b[0m\u001b[37m\u001b[0m \u001b[1m1s\u001b[0m 6ms/step - accuracy: 0.8741 - loss: 0.3364 - val_accuracy: 0.7729 - val_loss: 0.7618\n",
            "Epoch 41/50\n",
            "\u001b[1m111/111\u001b[0m \u001b[32m━━━━━━━━━━━━━━━━━━━━\u001b[0m\u001b[37m\u001b[0m \u001b[1m1s\u001b[0m 7ms/step - accuracy: 0.8796 - loss: 0.3236 - val_accuracy: 0.7672 - val_loss: 0.7677\n",
            "Epoch 42/50\n",
            "\u001b[1m111/111\u001b[0m \u001b[32m━━━━━━━━━━━━━━━━━━━━\u001b[0m\u001b[37m\u001b[0m \u001b[1m1s\u001b[0m 7ms/step - accuracy: 0.8654 - loss: 0.3348 - val_accuracy: 0.7684 - val_loss: 0.7730\n",
            "Epoch 43/50\n",
            "\u001b[1m111/111\u001b[0m \u001b[32m━━━━━━━━━━━━━━━━━━━━\u001b[0m\u001b[37m\u001b[0m \u001b[1m1s\u001b[0m 9ms/step - accuracy: 0.8790 - loss: 0.3252 - val_accuracy: 0.7582 - val_loss: 0.7675\n",
            "Epoch 44/50\n",
            "\u001b[1m111/111\u001b[0m \u001b[32m━━━━━━━━━━━━━━━━━━━━\u001b[0m\u001b[37m\u001b[0m \u001b[1m1s\u001b[0m 9ms/step - accuracy: 0.8766 - loss: 0.3180 - val_accuracy: 0.7593 - val_loss: 0.7923\n",
            "Epoch 45/50\n",
            "\u001b[1m111/111\u001b[0m \u001b[32m━━━━━━━━━━━━━━━━━━━━\u001b[0m\u001b[37m\u001b[0m \u001b[1m1s\u001b[0m 4ms/step - accuracy: 0.8732 - loss: 0.3282 - val_accuracy: 0.7661 - val_loss: 0.7934\n",
            "Epoch 46/50\n",
            "\u001b[1m111/111\u001b[0m \u001b[32m━━━━━━━━━━━━━━━━━━━━\u001b[0m\u001b[37m\u001b[0m \u001b[1m0s\u001b[0m 3ms/step - accuracy: 0.8878 - loss: 0.3013 - val_accuracy: 0.7661 - val_loss: 0.8009\n",
            "Epoch 47/50\n",
            "\u001b[1m111/111\u001b[0m \u001b[32m━━━━━━━━━━━━━━━━━━━━\u001b[0m\u001b[37m\u001b[0m \u001b[1m0s\u001b[0m 4ms/step - accuracy: 0.8752 - loss: 0.3204 - val_accuracy: 0.7661 - val_loss: 0.8035\n",
            "Epoch 48/50\n",
            "\u001b[1m111/111\u001b[0m \u001b[32m━━━━━━━━━━━━━━━━━━━━\u001b[0m\u001b[37m\u001b[0m \u001b[1m1s\u001b[0m 5ms/step - accuracy: 0.8885 - loss: 0.2978 - val_accuracy: 0.7718 - val_loss: 0.8190\n",
            "Epoch 49/50\n",
            "\u001b[1m111/111\u001b[0m \u001b[32m━━━━━━━━━━━━━━━━━━━━\u001b[0m\u001b[37m\u001b[0m \u001b[1m0s\u001b[0m 4ms/step - accuracy: 0.8929 - loss: 0.2991 - val_accuracy: 0.7605 - val_loss: 0.8230\n",
            "Epoch 50/50\n",
            "\u001b[1m111/111\u001b[0m \u001b[32m━━━━━━━━━━━━━━━━━━━━\u001b[0m\u001b[37m\u001b[0m \u001b[1m1s\u001b[0m 5ms/step - accuracy: 0.8820 - loss: 0.3028 - val_accuracy: 0.7684 - val_loss: 0.8291\n"
          ]
        },
        {
          "output_type": "display_data",
          "data": {
            "text/plain": [
              "<Figure size 1200x600 with 1 Axes>"
            ],
            "image/png": "[encoded data removed]"
          },
          "metadata": {}
        }
      ]
    },
    {
      "cell_type": "markdown",
      "source": [
        "The accuracy comparison plot shows that Dropout Regularisation achieved the highest validation accuracy with better generalization over epochs, while L2 Regularisation followed closely. L1 Regularisation showed slightly lower performance and more fluctuation, indicating potential underfitting. This highlights the effectiveness of dropout in reducing overfitting for this dataset."
      ],
      "metadata": {
        "id": "i6rLSBGLVbHD"
      }
    },
    {
      "cell_type": "markdown",
      "source": [
        "Next, performs a basic grid search over different learning rates and activation functions to observe their impact on neural network performance. It helps identify the best hyperparameter combination for achieving higher accuracy.\n",
        "\n",
        "\n",
        "\n",
        "\n",
        "\n",
        "\n",
        "\n",
        "\n"
      ],
      "metadata": {
        "id": "W-6Z_omL4wsX"
      }
    },
    {
      "cell_type": "code",
      "source": [
        "import numpy as np\n",
        "import tensorflow as tf\n",
        "from tensorflow.keras.models import Sequential\n",
        "from tensorflow.keras.layers import Dense\n",
        "from sklearn.metrics import accuracy_score\n",
        "\n",
        "# Define a function to create model with a hyperparameter\n",
        "def create_model(learning_rate=0.001, activation='relu'):\n",
        "    model = Sequential([\n",
        "        tf.keras.Input(shape=(X_train.shape[1],)),\n",
        "        Dense(64, activation=activation),\n",
        "        Dense(32, activation=activation),\n",
        "        Dense(3, activation='softmax')  # 3 classes\n",
        "    ])\n",
        "    model.compile(optimizer=tf.keras.optimizers.Adam(learning_rate=learning_rate),\n",
        "                  loss='categorical_crossentropy',\n",
        "                  metrics=['accuracy'])\n",
        "    return model\n",
        "\n",
        "# Define hyperparameter grid\n",
        "learning_rates = [0.001, 0.01]\n",
        "activations = ['relu', 'tanh']\n",
        "\n",
        "# Run Grid Search\n",
        "for lr in learning_rates:\n",
        "    for act in activations:\n",
        "        print(f\"\\nTraining with learning rate: {lr} and activation: {act}\")\n",
        "        model = create_model(learning_rate=lr, activation=act)\n",
        "        history = model.fit(X_train, y_train_cat, epochs=10, batch_size=32, verbose=0, validation_data=(X_test, y_test_cat))\n",
        "        _, acc = model.evaluate(X_test, y_test_cat, verbose=0)\n",
        "        print(f\"Validation Accuracy: {acc:.4f}\")\n",
        "\n"
      ],
      "metadata": {
        "colab": {
          "base_uri": "https://localhost:8080/"
        },
        "id": "n4Ykvr_6dR4V",
        "outputId": "a17b3a86-80e3-40d7-d3fe-620c88551d77"
      },
      "execution_count": null,
      "outputs": [
        {
          "output_type": "stream",
          "name": "stdout",
          "text": [
            "\n",
            "Training with learning rate: 0.001 and activation: relu\n",
            "Validation Accuracy: 0.7706\n",
            "\n",
            "Training with learning rate: 0.001 and activation: tanh\n",
            "Validation Accuracy: 0.7729\n",
            "\n",
            "Training with learning rate: 0.01 and activation: relu\n",
            "Validation Accuracy: 0.7582\n",
            "\n",
            "Training with learning rate: 0.01 and activation: tanh\n",
            "Validation Accuracy: 0.7514\n"
          ]
        }
      ]
    },
    {
      "cell_type": "markdown",
      "source": [
        "Among the tested combinations, the activation function tanh with a learning rate of 0.001 achieved the highest validation accuracy of 77.29%, indicating its suitability for this dataset compared to the other configurations."
      ],
      "metadata": {
        "id": "TN37kzbuVw6h"
      }
    },
    {
      "cell_type": "markdown",
      "source": [
        "Next, a basic random search is performed over key hyperparameters such as batch_size, epochs, learning_rate, and num_units to identify the combination that yields the best validation accuracy. Five random combinations are tested and the best-performing configuration is recorded."
      ],
      "metadata": {
        "id": "YcyH6y4B5bI2"
      }
    },
    {
      "cell_type": "code",
      "source": [
        "import numpy as np\n",
        "from tensorflow.keras.models import Sequential\n",
        "from tensorflow.keras.layers import Dense\n",
        "from tensorflow.keras.optimizers import Adam\n",
        "\n",
        "# Random search space\n",
        "param_dist = {\n",
        "    'batch_size': [32, 64],\n",
        "    'epochs': [50, 100],\n",
        "    'learning_rate': [0.001, 0.01],\n",
        "    'num_units': [32, 64]\n",
        "}\n",
        "\n",
        "# Function to build model\n",
        "def create_model(learning_rate=0.001, num_units=32):\n",
        "    model = Sequential()\n",
        "    model.add(Dense(num_units, activation='relu', input_shape=(X_train.shape[1],)))\n",
        "    model.add(Dense(num_units, activation='relu'))\n",
        "    model.add(Dense(y_train_cat.shape[1], activation='softmax'))\n",
        "\n",
        "    model.compile(optimizer=Adam(learning_rate=learning_rate),\n",
        "                  loss='categorical_crossentropy',\n",
        "                  metrics=['accuracy'])\n",
        "    return model\n",
        "\n",
        "# Manual random search - test 5 random combinations\n",
        "print(\"Starting Manual Random Search...\\n\")\n",
        "best_acc = 0\n",
        "best_params = None\n",
        "\n",
        "for i in range(5):\n",
        "    batch_size = np.random.choice(param_dist['batch_size'])\n",
        "    epochs = np.random.choice(param_dist['epochs'])\n",
        "    learning_rate = np.random.choice(param_dist['learning_rate'])\n",
        "    num_units = np.random.choice(param_dist['num_units'])\n",
        "\n",
        "    print(f\"Try {i+1}: batch_size={batch_size}, epochs={epochs}, learning_rate={learning_rate}, num_units={num_units}\")\n",
        "\n",
        "    model = create_model(learning_rate, num_units)\n",
        "    history = model.fit(X_train, y_train_cat,\n",
        "                        validation_data=(X_test, y_test_cat),\n",
        "                        epochs=epochs,\n",
        "                        batch_size=batch_size,\n",
        "                        verbose=0)\n",
        "\n",
        "    acc = history.history['val_accuracy'][-1]\n",
        "    print(f\"Validation Accuracy: {acc:.4f}\\n\")\n",
        "\n",
        "    if acc > best_acc:\n",
        "        best_acc = acc\n",
        "        best_params = {\n",
        "            'batch_size': batch_size,\n",
        "            'epochs': epochs,\n",
        "            'learning_rate': learning_rate,\n",
        "            'num_units': num_units\n",
        "        }\n",
        "\n",
        "print(\"Best Parameters from Random Search:\", best_params)\n",
        "print(\"Best Validation Accuracy:\", best_acc)\n"
      ],
      "metadata": {
        "colab": {
          "base_uri": "https://localhost:8080/"
        },
        "id": "apVLQYQCiHof",
        "outputId": "1c2bc4f0-dd24-434b-c7cf-be0dcd3a0494"
      },
      "execution_count": null,
      "outputs": [
        {
          "output_type": "stream",
          "name": "stdout",
          "text": [
            "Starting Manual Random Search...\n",
            "\n",
            "Try 1: batch_size=32, epochs=100, learning_rate=0.01, num_units=64\n",
            "Validation Accuracy: 0.7243\n",
            "\n",
            "Try 2: batch_size=64, epochs=50, learning_rate=0.001, num_units=64\n"
          ]
        },
        {
          "output_type": "stream",
          "name": "stderr",
          "text": [
            "/usr/local/lib/python3.11/dist-packages/keras/src/layers/core/dense.py:87: UserWarning: Do not pass an `input_shape`/`input_dim` argument to a layer. When using Sequential models, prefer using an `Input(shape)` object as the first layer in the model instead.\n",
            "  super().__init__(activity_regularizer=activity_regularizer, **kwargs)\n"
          ]
        },
        {
          "output_type": "stream",
          "name": "stdout",
          "text": [
            "Validation Accuracy: 0.7277\n",
            "\n",
            "Try 3: batch_size=64, epochs=50, learning_rate=0.001, num_units=64\n"
          ]
        },
        {
          "output_type": "stream",
          "name": "stderr",
          "text": [
            "/usr/local/lib/python3.11/dist-packages/keras/src/layers/core/dense.py:87: UserWarning: Do not pass an `input_shape`/`input_dim` argument to a layer. When using Sequential models, prefer using an `Input(shape)` object as the first layer in the model instead.\n",
            "  super().__init__(activity_regularizer=activity_regularizer, **kwargs)\n"
          ]
        },
        {
          "output_type": "stream",
          "name": "stdout",
          "text": [
            "Validation Accuracy: 0.7469\n",
            "\n",
            "Try 4: batch_size=64, epochs=100, learning_rate=0.001, num_units=32\n"
          ]
        },
        {
          "output_type": "stream",
          "name": "stderr",
          "text": [
            "/usr/local/lib/python3.11/dist-packages/keras/src/layers/core/dense.py:87: UserWarning: Do not pass an `input_shape`/`input_dim` argument to a layer. When using Sequential models, prefer using an `Input(shape)` object as the first layer in the model instead.\n",
            "  super().__init__(activity_regularizer=activity_regularizer, **kwargs)\n"
          ]
        },
        {
          "output_type": "stream",
          "name": "stdout",
          "text": [
            "Validation Accuracy: 0.7254\n",
            "\n",
            "Try 5: batch_size=32, epochs=100, learning_rate=0.01, num_units=32\n"
          ]
        },
        {
          "output_type": "stream",
          "name": "stderr",
          "text": [
            "/usr/local/lib/python3.11/dist-packages/keras/src/layers/core/dense.py:87: UserWarning: Do not pass an `input_shape`/`input_dim` argument to a layer. When using Sequential models, prefer using an `Input(shape)` object as the first layer in the model instead.\n",
            "  super().__init__(activity_regularizer=activity_regularizer, **kwargs)\n"
          ]
        },
        {
          "output_type": "stream",
          "name": "stdout",
          "text": [
            "Validation Accuracy: 0.7119\n",
            "\n",
            "Best Parameters from Random Search: {'batch_size': np.int64(64), 'epochs': np.int64(50), 'learning_rate': np.float64(0.001), 'num_units': np.int64(64)}\n",
            "Best Validation Accuracy: 0.7468926310539246\n"
          ]
        }
      ]
    },
    {
      "cell_type": "markdown",
      "source": [
        "Performed manual random search to find the best combination of batch size, epochs, learning rate, and number of units in a neural network. Validation accuracy was evaluated for each trial, and the best parameters achieved approximately 74.7% accuracy."
      ],
      "metadata": {
        "id": "AQhnVsT2di8l"
      }
    },
    {
      "cell_type": "markdown",
      "source": [
        "Now we implement Bayesian Optimization using Optuna to efficiently search for the best hyperparameters for a neural network model, aiming to improve validation accuracy by exploring a smarter search space compared to manual random search.\n",
        "\n"
      ],
      "metadata": {
        "id": "Lp_pU-yD5jTs"
      }
    },
    {
      "cell_type": "code",
      "source": [
        "import optuna\n",
        "from tensorflow.keras.models import Sequential\n",
        "from tensorflow.keras.layers import Dense, Input\n",
        "from tensorflow.keras.optimizers import Adam\n",
        "\n",
        "def create_model_optuna(trial):\n",
        "    # Suggest hyperparameters (updated for deprecation warning)\n",
        "    learning_rate = trial.suggest_float('learning_rate', 1e-4, 1e-2, log=True)\n",
        "    num_units = trial.suggest_categorical('num_units', [32, 64])\n",
        "    batch_size = trial.suggest_categorical('batch_size', [32, 64])\n",
        "    epochs = trial.suggest_categorical('epochs', [50, 100])\n",
        "\n",
        "    model = Sequential()\n",
        "    model.add(Input(shape=(X_train.shape[1],)))\n",
        "    model.add(Dense(num_units, activation='relu'))\n",
        "    model.add(Dense(num_units, activation='relu'))\n",
        "    model.add(Dense(y_train_cat.shape[1], activation='softmax'))\n",
        "\n",
        "    model.compile(optimizer=Adam(learning_rate=learning_rate),\n",
        "                  loss='categorical_crossentropy',\n",
        "                  metrics=['accuracy'])\n",
        "\n",
        "    model.fit(X_train, y_train_cat,\n",
        "              validation_data=(X_test, y_test_cat),\n",
        "              epochs=epochs,\n",
        "              batch_size=batch_size,\n",
        "              verbose=0)\n",
        "\n",
        "    score = model.evaluate(X_test, y_test_cat, verbose=0)\n",
        "    return score[1]  # return accuracy\n",
        "\n",
        "# Run optimization\n",
        "study = optuna.create_study(direction='maximize')\n",
        "study.optimize(create_model_optuna, n_trials=10)\n",
        "\n",
        "print(\"Best Bayesian Optimization Parameters:\")\n",
        "print(study.best_params)\n",
        "print(\"Best Accuracy:\", study.best_value)\n"
      ],
      "metadata": {
        "colab": {
          "base_uri": "https://localhost:8080/"
        },
        "id": "yiDwVtaNjqYD",
        "outputId": "5f534249-31be-4450-bcd8-66db47ce9cb5"
      },
      "execution_count": null,
      "outputs": [
        {
          "output_type": "stream",
          "name": "stderr",
          "text": [
            "[I 2025-06-04 02:14:02,777] A new study created in memory with name: no-name-cd94b812-71d0-4bc7-9fcf-d2907ae3719b\n",
            "[I 2025-06-04 02:14:40,977] Trial 0 finished with value: 0.7706214785575867 and parameters: {'learning_rate': 0.00012660268842827217, 'num_units': 32, 'batch_size': 64, 'epochs': 100}. Best is trial 0 with value: 0.7706214785575867.\n",
            "[I 2025-06-04 02:15:45,716] Trial 1 finished with value: 0.7299435138702393 and parameters: {'learning_rate': 0.0022878442044361093, 'num_units': 64, 'batch_size': 32, 'epochs': 100}. Best is trial 0 with value: 0.7706214785575867.\n",
            "[I 2025-06-04 02:16:18,860] Trial 2 finished with value: 0.7197740077972412 and parameters: {'learning_rate': 0.0017022506861294356, 'num_units': 64, 'batch_size': 32, 'epochs': 50}. Best is trial 0 with value: 0.7706214785575867.\n",
            "[I 2025-06-04 02:17:18,074] Trial 3 finished with value: 0.7118644118309021 and parameters: {'learning_rate': 0.0004660493511026175, 'num_units': 32, 'batch_size': 32, 'epochs': 100}. Best is trial 0 with value: 0.7706214785575867.\n",
            "[I 2025-06-04 02:17:55,373] Trial 4 finished with value: 0.7276836037635803 and parameters: {'learning_rate': 0.0017626188135645181, 'num_units': 32, 'batch_size': 64, 'epochs': 100}. Best is trial 0 with value: 0.7706214785575867.\n",
            "[I 2025-06-04 02:18:33,008] Trial 5 finished with value: 0.7593220472335815 and parameters: {'learning_rate': 0.00010768833159920551, 'num_units': 64, 'batch_size': 64, 'epochs': 100}. Best is trial 0 with value: 0.7706214785575867.\n",
            "[I 2025-06-04 02:19:06,704] Trial 6 finished with value: 0.7355931997299194 and parameters: {'learning_rate': 0.0009788572972635882, 'num_units': 64, 'batch_size': 32, 'epochs': 50}. Best is trial 0 with value: 0.7706214785575867.\n",
            "[I 2025-06-04 02:20:10,379] Trial 7 finished with value: 0.7389830350875854 and parameters: {'learning_rate': 0.00036338402783439355, 'num_units': 32, 'batch_size': 32, 'epochs': 100}. Best is trial 0 with value: 0.7706214785575867.\n",
            "[I 2025-06-04 02:20:41,940] Trial 8 finished with value: 0.7570621371269226 and parameters: {'learning_rate': 0.00029142322991600157, 'num_units': 32, 'batch_size': 32, 'epochs': 50}. Best is trial 0 with value: 0.7706214785575867.\n",
            "[I 2025-06-04 02:21:42,929] Trial 9 finished with value: 0.7220339179039001 and parameters: {'learning_rate': 0.003978795752137743, 'num_units': 32, 'batch_size': 32, 'epochs': 100}. Best is trial 0 with value: 0.7706214785575867.\n"
          ]
        },
        {
          "output_type": "stream",
          "name": "stdout",
          "text": [
            "Best Bayesian Optimization Parameters:\n",
            "{'learning_rate': 0.00012660268842827217, 'num_units': 32, 'batch_size': 64, 'epochs': 100}\n",
            "Best Accuracy: 0.7706214785575867\n"
          ]
        }
      ]
    },
    {
      "cell_type": "markdown",
      "source": [
        "Bayesian optimization using Optuna was applied to tune the hyperparameters of the neural network. After 10 trials, the best test accuracy achieved was 77.06% with the following parameters: learning rate of 0.00012660, 32 units per dense layer, 64 batch size, and 100 epochs."
      ],
      "metadata": {
        "id": "0qXOjMHHjBDc"
      }
    },
    {
      "cell_type": "markdown",
      "source": [
        "This Stratified K-Fold Cross-Validation is performed to evaluate model performance. The dataset is split into 5 folds while preserving class distribution, and the model is trained and tested on each fold. The average accuracy across all folds is reported.\n",
        "\n"
      ],
      "metadata": {
        "id": "lrkjv6i76HpH"
      }
    },
    {
      "cell_type": "code",
      "source": [
        "from sklearn.model_selection import StratifiedKFold\n",
        "from sklearn.metrics import accuracy_score\n",
        "import numpy as np\n",
        "from tensorflow.keras.utils import to_categorical # Import to_categorical\n",
        "\n",
        "# Define Stratified K-Fold\n",
        "skf = StratifiedKFold(n_splits=5, shuffle=True, random_state=42)\n",
        "accuracies = []\n",
        "\n",
        "# Ensure target is in label-encoded format (not one-hot)\n",
        "y_labels = y  # original label encoded target (e.g., 0,1,2)\n",
        "\n",
        "for train_idx, val_idx in skf.split(X, y_labels):\n",
        "    # Use .iloc to select rows based on indices\n",
        "    X_train_fold, X_val_fold = X.iloc[train_idx], X.iloc[val_idx]\n",
        "    y_train_fold, y_val_fold = y_labels.iloc[train_idx], y_labels.iloc[val_idx]\n",
        "\n",
        "    # One-hot encode targets for model input\n",
        "    y_train_cat = to_categorical(y_train_fold, num_classes=3)\n",
        "    y_val_cat = to_categorical(y_val_fold, num_classes=3)\n",
        "\n",
        "    model = create_model()  # Use your model creation function\n",
        "    model.fit(X_train_fold, y_train_cat, epochs=20, batch_size=32, verbose=0)\n",
        "\n",
        "    preds = model.predict(X_val_fold)\n",
        "    acc = accuracy_score(y_val_fold, np.argmax(preds, axis=1))\n",
        "    accuracies.append(acc)\n",
        "\n",
        "print(\"Cross-validation accuracy scores:\", accuracies)\n",
        "print(\"Mean CV accuracy:\", np.mean(accuracies))"
      ],
      "metadata": {
        "colab": {
          "base_uri": "https://localhost:8080/"
        },
        "id": "d_MaLC5voGOA",
        "outputId": "e19ed10b-0abc-4d35-cab6-551627748dc6"
      },
      "execution_count": null,
      "outputs": [
        {
          "output_type": "stream",
          "name": "stderr",
          "text": [
            "/usr/local/lib/python3.11/dist-packages/keras/src/layers/core/dense.py:87: UserWarning: Do not pass an `input_shape`/`input_dim` argument to a layer. When using Sequential models, prefer using an `Input(shape)` object as the first layer in the model instead.\n",
            "  super().__init__(activity_regularizer=activity_regularizer, **kwargs)\n"
          ]
        },
        {
          "output_type": "stream",
          "name": "stdout",
          "text": [
            "\u001b[1m28/28\u001b[0m \u001b[32m━━━━━━━━━━━━━━━━━━━━\u001b[0m\u001b[37m\u001b[0m \u001b[1m0s\u001b[0m 4ms/step\n"
          ]
        },
        {
          "output_type": "stream",
          "name": "stderr",
          "text": [
            "/usr/local/lib/python3.11/dist-packages/keras/src/layers/core/dense.py:87: UserWarning: Do not pass an `input_shape`/`input_dim` argument to a layer. When using Sequential models, prefer using an `Input(shape)` object as the first layer in the model instead.\n",
            "  super().__init__(activity_regularizer=activity_regularizer, **kwargs)\n"
          ]
        },
        {
          "output_type": "stream",
          "name": "stdout",
          "text": [
            "\u001b[1m28/28\u001b[0m \u001b[32m━━━━━━━━━━━━━━━━━━━━\u001b[0m\u001b[37m\u001b[0m \u001b[1m0s\u001b[0m 10ms/step\n"
          ]
        },
        {
          "output_type": "stream",
          "name": "stderr",
          "text": [
            "/usr/local/lib/python3.11/dist-packages/keras/src/layers/core/dense.py:87: UserWarning: Do not pass an `input_shape`/`input_dim` argument to a layer. When using Sequential models, prefer using an `Input(shape)` object as the first layer in the model instead.\n",
            "  super().__init__(activity_regularizer=activity_regularizer, **kwargs)\n"
          ]
        },
        {
          "output_type": "stream",
          "name": "stdout",
          "text": [
            "\u001b[1m28/28\u001b[0m \u001b[32m━━━━━━━━━━━━━━━━━━━━\u001b[0m\u001b[37m\u001b[0m \u001b[1m0s\u001b[0m 3ms/step\n"
          ]
        },
        {
          "output_type": "stream",
          "name": "stderr",
          "text": [
            "/usr/local/lib/python3.11/dist-packages/keras/src/layers/core/dense.py:87: UserWarning: Do not pass an `input_shape`/`input_dim` argument to a layer. When using Sequential models, prefer using an `Input(shape)` object as the first layer in the model instead.\n",
            "  super().__init__(activity_regularizer=activity_regularizer, **kwargs)\n"
          ]
        },
        {
          "output_type": "stream",
          "name": "stdout",
          "text": [
            "\u001b[1m28/28\u001b[0m \u001b[32m━━━━━━━━━━━━━━━━━━━━\u001b[0m\u001b[37m\u001b[0m \u001b[1m0s\u001b[0m 8ms/step\n"
          ]
        },
        {
          "output_type": "stream",
          "name": "stderr",
          "text": [
            "/usr/local/lib/python3.11/dist-packages/keras/src/layers/core/dense.py:87: UserWarning: Do not pass an `input_shape`/`input_dim` argument to a layer. When using Sequential models, prefer using an `Input(shape)` object as the first layer in the model instead.\n",
            "  super().__init__(activity_regularizer=activity_regularizer, **kwargs)\n"
          ]
        },
        {
          "output_type": "stream",
          "name": "stdout",
          "text": [
            "\u001b[1m28/28\u001b[0m \u001b[32m━━━━━━━━━━━━━━━━━━━━\u001b[0m\u001b[37m\u001b[0m \u001b[1m0s\u001b[0m 3ms/step\n",
            "Cross-validation accuracy scores: [0.768361581920904, 0.7570621468926554, 0.7604519774011299, 0.7796610169491526, 0.7680995475113123]\n",
            "Mean CV accuracy: 0.7667272541350308\n"
          ]
        }
      ]
    },
    {
      "cell_type": "markdown",
      "source": [
        "The cross-validation results show consistent performance across all folds, with individual accuracies ranging from approximately 75% to 78%. The model achieved an average accuracy of 76.67%, indicating stable generalization performance across the dataset."
      ],
      "metadata": {
        "id": "Tg4N40i7jq1h"
      }
    },
    {
      "cell_type": "markdown",
      "source": [
        "Now we evaluate the final model's performance using classification metrics. This includes calculating precision, recall, F1-score, and support for each class to understand how well the model performs across different categories."
      ],
      "metadata": {
        "id": "DiiDqFao6R3Z"
      }
    },
    {
      "cell_type": "code",
      "source": [
        "from sklearn.metrics import classification_report\n",
        "\n",
        "# Predict on test set\n",
        "y_pred_probs = model.predict(X_test)\n",
        "y_pred_classes = np.argmax(y_pred_probs, axis=1)\n",
        "y_true = np.argmax(y_test_cat, axis=1)\n",
        "\n",
        "# Generate report\n",
        "print(classification_report(y_true, y_pred_classes))\n"
      ],
      "metadata": {
        "colab": {
          "base_uri": "https://localhost:8080/"
        },
        "id": "eGrmcdZPozeI",
        "outputId": "0d25c7c1-3312-47a3-c864-e2c2dbce4574"
      },
      "execution_count": null,
      "outputs": [
        {
          "output_type": "stream",
          "name": "stdout",
          "text": [
            "\u001b[1m28/28\u001b[0m \u001b[32m━━━━━━━━━━━━━━━━━━━━\u001b[0m\u001b[37m\u001b[0m \u001b[1m0s\u001b[0m 2ms/step \n",
            "              precision    recall  f1-score   support\n",
            "\n",
            "           0       0.81      0.48      0.61       316\n",
            "           1       0.24      0.81      0.38       151\n",
            "           2       0.81      0.38      0.51       418\n",
            "\n",
            "    accuracy                           0.49       885\n",
            "   macro avg       0.62      0.56      0.50       885\n",
            "weighted avg       0.72      0.49      0.52       885\n",
            "\n"
          ]
        }
      ]
    },
    {
      "cell_type": "markdown",
      "source": [
        "The classification report reveals that while class 1 has high recall, its precision is quite low, indicating many false positives. Class 0 and class 2 show relatively better precision but suffer from lower recall. The overall accuracy is 49%, and the F1-scores suggest the model is imbalanced in performance across classes. Improvements may be needed through class balancing, more data, or further hyperparameter tuning.\n",
        "\n",
        "\n",
        "\n",
        "\n",
        "\n",
        "\n",
        "\n"
      ],
      "metadata": {
        "id": "X76gFs2SmIdv"
      }
    },
    {
      "cell_type": "markdown",
      "source": [
        "Next, we visualize the model's classification performance using a confusion matrix. This helps us understand how well the model distinguishes between each class by showing the counts of correct and incorrect predictions."
      ],
      "metadata": {
        "id": "BnF8YJgH6aHr"
      }
    },
    {
      "cell_type": "code",
      "source": [
        "from sklearn.metrics import confusion_matrix\n",
        "import seaborn as sns\n",
        "import matplotlib.pyplot as plt\n",
        "\n",
        "cm = confusion_matrix(y_true, y_pred_classes)\n",
        "\n",
        "# Define class_names based on your target variable's unique values\n",
        "class_names = ['Dropout', 'Enrolled', 'Graduate']  # Assuming these are your class labels\n",
        "\n",
        "plt.figure(figsize=(6,5))\n",
        "sns.heatmap(cm, annot=True, fmt='d', cmap='Blues', xticklabels=class_names, yticklabels=class_names)\n",
        "plt.xlabel('Predicted')\n",
        "plt.ylabel('True')\n",
        "plt.title('Confusion Matrix')\n",
        "plt.show()"
      ],
      "metadata": {
        "colab": {
          "base_uri": "https://localhost:8080/",
          "height": 487
        },
        "id": "JVYa9zI9o6HE",
        "outputId": "cab0f7ce-de66-4a03-8135-d1ed78a3071c"
      },
      "execution_count": null,
      "outputs": [
        {
          "output_type": "display_data",
          "data": {
            "text/plain": [
              "<Figure size 600x500 with 2 Axes>"
            ],
            "image/png": "[encoded data removed]"
          },
          "metadata": {}
        }
      ]
    },
    {
      "cell_type": "markdown",
      "source": [
        "The confusion matrix shows that class 0 and class 2 had significant misclassifications, especially between each other. Class 1 was predicted more accurately with fewer misclassifications. This indicates an imbalance or overlap between class features, which may be affecting overall model performance."
      ],
      "metadata": {
        "id": "hbSN4qCDxran"
      }
    },
    {
      "cell_type": "markdown",
      "source": [
        "Now, let's visualize the training process by plotting the model’s accuracy and loss curves over epochs. This helps us assess how well the model learned during training and if it is overfitting or underfitting."
      ],
      "metadata": {
        "id": "NrMztGNvnOEF"
      }
    },
    {
      "cell_type": "code",
      "source": [
        "plt.plot(history.history['accuracy'], label='Train Accuracy')\n",
        "plt.plot(history.history['val_accuracy'], label='Val Accuracy')\n",
        "plt.title('Model Accuracy')\n",
        "plt.ylabel('Accuracy')\n",
        "plt.xlabel('Epoch')\n",
        "plt.legend()\n",
        "plt.show()\n",
        "\n",
        "plt.plot(history.history['loss'], label='Train Loss')\n",
        "plt.plot(history.history['val_loss'], label='Val Loss')\n",
        "plt.title('Model Loss')\n",
        "plt.ylabel('Loss')\n",
        "plt.xlabel('Epoch')\n",
        "plt.legend()\n",
        "plt.show()\n"
      ],
      "metadata": {
        "colab": {
          "base_uri": "https://localhost:8080/",
          "height": 927
        },
        "id": "3_Vpl6mrpPlb",
        "outputId": "3ff863dc-ac5b-416c-84e5-a523afa10b8e"
      },
      "execution_count": null,
      "outputs": [
        {
          "output_type": "display_data",
          "data": {
            "text/plain": [
              "<Figure size 640x480 with 1 Axes>"
            ],
            "image/png": "[encoded data removed]"
          },
          "metadata": {}
        },
        {
          "output_type": "display_data",
          "data": {
            "text/plain": [
              "<Figure size 640x480 with 1 Axes>"
            ],
            "image/png": "[encoded data removed]"
          },
          "metadata": {}
        }
      ]
    },
    {
      "cell_type": "markdown",
      "source": [
        "## 📌 Conclusion\n",
        "\n",
        "A feedforward neural network (FNN) was used in this project to forecast student dropout and academic achievement given different academic and demographic characteristics. The model was trained and tested using the UCI Machine Learning Repository dataset. The outcomes indicate the potential of neural networks in educational data mining, which provides valuable input for early intervention programs."
      ],
      "metadata": {
        "id": "IUDDtA5IeBhk"
      }
    }
  ]
}